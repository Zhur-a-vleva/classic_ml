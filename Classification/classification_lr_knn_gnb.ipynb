{
  "cells": [
    {
      "cell_type": "markdown",
      "source": [
        "## Task 1"
      ],
      "metadata": {
        "id": "5RHmCTdJlHmo"
      }
    },
    {
      "cell_type": "markdown",
      "metadata": {
        "tags": [],
        "id": "TsHkxTY7klyx"
      },
      "source": [
        "### Linear Regression\n",
        "#### Data reading & plotting"
      ]
    },
    {
      "cell_type": "code",
      "execution_count": null,
      "metadata": {
        "jupyter": {
          "outputs_hidden": false
        },
        "id": "7unxZk4zklyx"
      },
      "outputs": [],
      "source": [
        "import pandas as pd\n",
        "\n",
        "# read data frame from file\n",
        "df = pd.read_csv('linear_regression_data.csv')"
      ]
    },
    {
      "cell_type": "code",
      "execution_count": null,
      "metadata": {
        "jupyter": {
          "outputs_hidden": false
        },
        "id": "zYJTb5r_klyy"
      },
      "outputs": [],
      "source": [
        "# save the train and test, data and target separatly\n",
        "X_train, y_train, X_test, y_test = df['X_train'], df['y_train'], df['X_test'], df['y_test']"
      ]
    },
    {
      "cell_type": "code",
      "execution_count": null,
      "metadata": {
        "jupyter": {
          "outputs_hidden": false
        },
        "id": "KJHyq6WMklyz",
        "outputId": "6e575fb2-b387-41ef-d2ef-4ebb6298b8d0"
      },
      "outputs": [
        {
          "data": {
            "image/png": "[encoded data removed]",
            "text/plain": [
              "<Figure size 1008x360 with 1 Axes>"
            ]
          },
          "metadata": {
            "needs_background": "light"
          },
          "output_type": "display_data"
        }
      ],
      "source": [
        "import matplotlib.pyplot as plt\n",
        "\n",
        "# plot X_train against y_train to visualize the data\n",
        "plt.figure(figsize=(14, 5))\n",
        "# define the data to plot, specify the form and label\n",
        "plt.plot(X_train, y_train, 'o', label='Train data')\n",
        "plt.xlabel(\"x\")\n",
        "plt.ylabel(\"y\")\n",
        "\n",
        "plt.legend(loc=\"best\")\n",
        "plt.show()"
      ]
    },
    {
      "cell_type": "markdown",
      "metadata": {
        "id": "rN7twoFGkly0"
      },
      "source": [
        "#### Linear regression model fitting"
      ]
    },
    {
      "cell_type": "code",
      "execution_count": null,
      "metadata": {
        "jupyter": {
          "outputs_hidden": false
        },
        "id": "xT7p4QGDkly0",
        "outputId": "b768c3a9-4851-463c-a9da-b062c867fe34"
      },
      "outputs": [
        {
          "data": {
            "text/html": [
              "<style>#sk-container-id-1 {color: black;background-color: white;}#sk-container-id-1 pre{padding: 0;}#sk-container-id-1 div.sk-toggleable {background-color: white;}#sk-container-id-1 label.sk-toggleable__label {cursor: pointer;display: block;width: 100%;margin-bottom: 0;padding: 0.3em;box-sizing: border-box;text-align: center;}#sk-container-id-1 label.sk-toggleable__label-arrow:before {content: \"▸\";float: left;margin-right: 0.25em;color: #696969;}#sk-container-id-1 label.sk-toggleable__label-arrow:hover:before {color: black;}#sk-container-id-1 div.sk-estimator:hover label.sk-toggleable__label-arrow:before {color: black;}#sk-container-id-1 div.sk-toggleable__content {max-height: 0;max-width: 0;overflow: hidden;text-align: left;background-color: #f0f8ff;}#sk-container-id-1 div.sk-toggleable__content pre {margin: 0.2em;color: black;border-radius: 0.25em;background-color: #f0f8ff;}#sk-container-id-1 input.sk-toggleable__control:checked~div.sk-toggleable__content {max-height: 200px;max-width: 100%;overflow: auto;}#sk-container-id-1 input.sk-toggleable__control:checked~label.sk-toggleable__label-arrow:before {content: \"▾\";}#sk-container-id-1 div.sk-estimator input.sk-toggleable__control:checked~label.sk-toggleable__label {background-color: #d4ebff;}#sk-container-id-1 div.sk-label input.sk-toggleable__control:checked~label.sk-toggleable__label {background-color: #d4ebff;}#sk-container-id-1 input.sk-hidden--visually {border: 0;clip: rect(1px 1px 1px 1px);clip: rect(1px, 1px, 1px, 1px);height: 1px;margin: -1px;overflow: hidden;padding: 0;position: absolute;width: 1px;}#sk-container-id-1 div.sk-estimator {font-family: monospace;background-color: #f0f8ff;border: 1px dotted black;border-radius: 0.25em;box-sizing: border-box;margin-bottom: 0.5em;}#sk-container-id-1 div.sk-estimator:hover {background-color: #d4ebff;}#sk-container-id-1 div.sk-parallel-item::after {content: \"\";width: 100%;border-bottom: 1px solid gray;flex-grow: 1;}#sk-container-id-1 div.sk-label:hover label.sk-toggleable__label {background-color: #d4ebff;}#sk-container-id-1 div.sk-serial::before {content: \"\";position: absolute;border-left: 1px solid gray;box-sizing: border-box;top: 0;bottom: 0;left: 50%;z-index: 0;}#sk-container-id-1 div.sk-serial {display: flex;flex-direction: column;align-items: center;background-color: white;padding-right: 0.2em;padding-left: 0.2em;position: relative;}#sk-container-id-1 div.sk-item {position: relative;z-index: 1;}#sk-container-id-1 div.sk-parallel {display: flex;align-items: stretch;justify-content: center;background-color: white;position: relative;}#sk-container-id-1 div.sk-item::before, #sk-container-id-1 div.sk-parallel-item::before {content: \"\";position: absolute;border-left: 1px solid gray;box-sizing: border-box;top: 0;bottom: 0;left: 50%;z-index: -1;}#sk-container-id-1 div.sk-parallel-item {display: flex;flex-direction: column;z-index: 1;position: relative;background-color: white;}#sk-container-id-1 div.sk-parallel-item:first-child::after {align-self: flex-end;width: 50%;}#sk-container-id-1 div.sk-parallel-item:last-child::after {align-self: flex-start;width: 50%;}#sk-container-id-1 div.sk-parallel-item:only-child::after {width: 0;}#sk-container-id-1 div.sk-dashed-wrapped {border: 1px dashed gray;margin: 0 0.4em 0.5em 0.4em;box-sizing: border-box;padding-bottom: 0.4em;background-color: white;}#sk-container-id-1 div.sk-label label {font-family: monospace;font-weight: bold;display: inline-block;line-height: 1.2em;}#sk-container-id-1 div.sk-label-container {text-align: center;}#sk-container-id-1 div.sk-container {/* jupyter's `normalize.less` sets `[hidden] { display: none; }` but bootstrap.min.css set `[hidden] { display: none !important; }` so we also need the `!important` here to be able to override the default hidden behavior on the sphinx rendered scikit-learn.org. See: https://github.com/scikit-learn/scikit-learn/issues/21755 */display: inline-block !important;position: relative;}#sk-container-id-1 div.sk-text-repr-fallback {display: none;}</style><div id=\"sk-container-id-1\" class=\"sk-top-container\"><div class=\"sk-text-repr-fallback\"><pre>LinearRegression()</pre><b>In a Jupyter environment, please rerun this cell to show the HTML representation or trust the notebook. <br />On GitHub, the HTML representation is unable to render, please try loading this page with nbviewer.org.</b></div><div class=\"sk-container\" hidden><div class=\"sk-item\"><div class=\"sk-estimator sk-toggleable\"><input class=\"sk-toggleable__control sk-hidden--visually\" id=\"sk-estimator-id-1\" type=\"checkbox\" checked><label for=\"sk-estimator-id-1\" class=\"sk-toggleable__label sk-toggleable__label-arrow\">LinearRegression</label><div class=\"sk-toggleable__content\"><pre>LinearRegression()</pre></div></div></div></div></div>"
            ],
            "text/plain": [
              "LinearRegression()"
            ]
          },
          "execution_count": 4,
          "metadata": {},
          "output_type": "execute_result"
        }
      ],
      "source": [
        "from sklearn.linear_model import LinearRegression\n",
        "import numpy as np\n",
        "\n",
        "# initialize LinearRegression from sklearn\n",
        "reg = LinearRegression()\n",
        "# fit the model to the dataset, and fix the dimenstionality of the X_train\n",
        "reg.fit(np.asarray(X_train)[:, np.newaxis], y_train)"
      ]
    },
    {
      "cell_type": "markdown",
      "metadata": {
        "id": "6IU1zaP-kly1"
      },
      "source": [
        "#### Linear regression model prediction & Evaluation\n"
      ]
    },
    {
      "cell_type": "code",
      "execution_count": null,
      "metadata": {
        "jupyter": {
          "outputs_hidden": false
        },
        "id": "3ObQB953kly1"
      },
      "outputs": [],
      "source": [
        "from sklearn import metrics\n",
        "\n",
        "def print_metrics(y_actual, y_pred):\n",
        "    #MSE\n",
        "    mse = metrics.mean_squared_error(y_actual, y_pred)\n",
        "    #RMSE\n",
        "    rmse = metrics.mean_squared_error(y_actual, y_pred, squared=False)\n",
        "    #MAE\n",
        "    mae = metrics.mean_absolute_error(y_actual, y_pred)\n",
        "    #R2\n",
        "    r2 = metrics.r2_score(y_actual, y_pred)\n",
        "\n",
        "    print('MSE:', mse)\n",
        "    print('RMSE:', rmse)\n",
        "    print('MAE:', mae)\n",
        "    print('R2:', r2)"
      ]
    },
    {
      "cell_type": "code",
      "execution_count": null,
      "metadata": {
        "jupyter": {
          "outputs_hidden": false
        },
        "id": "OtLdbwTKkly1",
        "outputId": "33f73a05-61ee-483a-ff71-f4ef6fa3a3c6"
      },
      "outputs": [
        {
          "name": "stdout",
          "output_type": "stream",
          "text": [
            "MSE: 0.78105677092199\n",
            "RMSE: 0.8837741628504365\n",
            "MAE: 0.7837610302414408\n",
            "R2: 0.2609450135378707\n"
          ]
        }
      ],
      "source": [
        "# predict on X_test\n",
        "y_pred_lr = reg.predict(np.asarray(X_test)[:, np.newaxis])\n",
        "# evaluate performance\n",
        "print_metrics(y_test, y_pred_lr)"
      ]
    },
    {
      "cell_type": "markdown",
      "metadata": {
        "id": "_lmkEI7dkly1"
      },
      "source": [
        "#### Plotting original data and prediction\n"
      ]
    },
    {
      "cell_type": "code",
      "execution_count": null,
      "metadata": {
        "jupyter": {
          "outputs_hidden": false
        },
        "id": "TrNbiCjhkly2",
        "outputId": "a64ef99d-3e44-4544-9e07-ed6a15a6ff13"
      },
      "outputs": [
        {
          "data": {
            "image/png": "[encoded data removed]",
            "text/plain": [
              "<Figure size 1008x360 with 1 Axes>"
            ]
          },
          "metadata": {
            "needs_background": "light"
          },
          "output_type": "display_data"
        }
      ],
      "source": [
        "import matplotlib.pyplot as plt\n",
        "\n",
        "# plot the test data and the predictions on X_test\n",
        "plt.figure(figsize=(14, 5))\n",
        "\n",
        "plt.plot(X_test, y_test, 'o', label='Original')\n",
        "# pick another presentation style for predicted data\n",
        "plt.plot(X_test, y_pred_lr, color='g', label='Predicted')\n",
        "plt.xlabel(\"x\")\n",
        "plt.ylabel(\"y\")\n",
        "\n",
        "plt.legend(loc=\"best\")\n",
        "plt.show()"
      ]
    },
    {
      "cell_type": "markdown",
      "metadata": {
        "id": "3da0Y-t_kly2"
      },
      "source": [
        "#### Linear regression model does not give a good fit. If we look closely at the original data, it is clear that the points on the graph are more like a parabola than a straight line. From this we can conclude that a polynomial regression would fit better. Looking at R2, which is less than 0.5, we understand that the model does not fit the data"
      ]
    },
    {
      "cell_type": "markdown",
      "metadata": {
        "tags": [],
        "id": "xb1V8-qDkly2"
      },
      "source": [
        "### Polynomial Regression\n",
        "#### Constructing the polynomial regression pipeline"
      ]
    },
    {
      "cell_type": "code",
      "execution_count": null,
      "metadata": {
        "jupyter": {
          "outputs_hidden": false
        },
        "id": "dqIjp8HHkly2"
      },
      "outputs": [],
      "source": [
        "import numpy as np\n",
        "from sklearn.pipeline import Pipeline\n",
        "from sklearn.preprocessing import PolynomialFeatures\n",
        "from sklearn.linear_model import LinearRegression\n",
        "from sklearn.model_selection import cross_val_score"
      ]
    },
    {
      "cell_type": "code",
      "execution_count": null,
      "metadata": {
        "jupyter": {
          "outputs_hidden": false
        },
        "id": "_UyQKo4zkly2"
      },
      "outputs": [],
      "source": [
        "# constructing a polynomial regression pipeline\n",
        "pipeline = Pipeline([(\"polynomial_features\", PolynomialFeatures()), (\"linear_regression\", LinearRegression())])"
      ]
    },
    {
      "cell_type": "markdown",
      "metadata": {
        "id": "9EzbdjhZkly3"
      },
      "source": [
        "#### Tuning the degree hyper-parameter using GridSearch"
      ]
    },
    {
      "cell_type": "code",
      "execution_count": null,
      "metadata": {
        "jupyter": {
          "outputs_hidden": false
        },
        "id": "S5dK-oPskly3",
        "outputId": "273b98a4-77b8-4a46-9931-325c511a9ea1"
      },
      "outputs": [
        {
          "name": "stdout",
          "output_type": "stream",
          "text": [
            "Best parameter (CV score=-1.078): 2\n",
            "\n"
          ]
        }
      ],
      "source": [
        "from sklearn.model_selection import GridSearchCV\n",
        "\n",
        "# define parameters\n",
        "degrees = range(2, 10)\n",
        "parameters = {'polynomial_features__degree': degrees}\n",
        "\n",
        "# initialize search\n",
        "search = GridSearchCV(pipeline, parameters, cv=8, scoring='neg_mean_squared_error')\n",
        "\n",
        "# fix the dimenstionality of the X_train\n",
        "x = np.asarray(X_train)[:, np.newaxis]\n",
        "\n",
        "# search best parameters\n",
        "search.fit(x, y_train)\n",
        "print(\"Best parameter (CV score=%0.3f):\" %search.best_score_, search.best_params_['polynomial_features__degree'])\n",
        "print()"
      ]
    },
    {
      "cell_type": "code",
      "execution_count": null,
      "metadata": {
        "jupyter": {
          "outputs_hidden": false
        },
        "id": "GSIZ9vwbkly4",
        "outputId": "a30f69b5-214e-4586-9f26-4edc5897f85b"
      },
      "outputs": [
        {
          "name": "stdout",
          "output_type": "stream",
          "text": [
            "MSE: 0.08205877217937999\n",
            "RMSE: 0.2864590235607529\n",
            "MAE: 0.15213273421671694\n",
            "R2: 0.9223539862658872\n"
          ]
        }
      ],
      "source": [
        "# predict on X_test\n",
        "pipeline.fit(x, y_train)\n",
        "y_pred_gs = pipeline.predict(np.asarray(X_test)[:, np.newaxis])\n",
        "\n",
        "# evaluate preformance\n",
        "print_metrics(y_test, y_pred_gs)"
      ]
    },
    {
      "cell_type": "markdown",
      "metadata": {
        "id": "v-cUWCTLkly4"
      },
      "source": [
        "#### Manually finding the best degree"
      ]
    },
    {
      "cell_type": "code",
      "execution_count": null,
      "metadata": {
        "jupyter": {
          "outputs_hidden": false
        },
        "id": "OX7i2j_dkly4",
        "outputId": "fffa978c-d33e-4b2d-ba26-c96218b52f0d"
      },
      "outputs": [
        {
          "name": "stdout",
          "output_type": "stream",
          "text": [
            "Best parameter (Negative MSE=-1.078): 2\n"
          ]
        }
      ],
      "source": [
        "# initialize variables for saving the answer\n",
        "best_degree = 0\n",
        "negative_mse = 100000000\n",
        "\n",
        "for d in degrees:\n",
        "    # construct a pipeline\n",
        "    pipeline = Pipeline([(\"polynomial_features\", PolynomialFeatures(degree=d)),\n",
        "                         (\"linear_regression\", LinearRegression())])\n",
        "    # fit on the data\n",
        "    pipeline.fit(x, y_train)\n",
        "\n",
        "    # evaluate the models using crossvalidation\n",
        "    scores = cross_val_score(pipeline, x, y_train,\n",
        "                             scoring=\"neg_mean_squared_error\", cv=8)\n",
        "\n",
        "    # update the answer if we obtain the better result of the metrci \"negative MSE\"\n",
        "    if -scores.mean() < negative_mse:\n",
        "        negative_mse = -scores.mean()\n",
        "        best_degree = d\n",
        "\n",
        "# print the best parameters\n",
        "print(\"Best parameter (Negative MSE=%0.3f):\" %-negative_mse, best_degree)"
      ]
    },
    {
      "cell_type": "code",
      "execution_count": null,
      "metadata": {
        "jupyter": {
          "outputs_hidden": false
        },
        "id": "f-bBNiF3kly5",
        "outputId": "19d06fa6-8959-4549-ea5c-d1d268132bee"
      },
      "outputs": [
        {
          "data": {
            "image/png": "[encoded data removed]",
            "text/plain": [
              "<Figure size 1008x360 with 1 Axes>"
            ]
          },
          "metadata": {
            "needs_background": "light"
          },
          "output_type": "display_data"
        }
      ],
      "source": [
        "# plotting the test data and the best degree polynomial model\n",
        "plt.figure(figsize=(14, 5))\n",
        "plt.plot(X_test, y_test, label=\"plot\")\n",
        "plt.plot(X_test, y_pred_gs, color='g', label=\"Predicted\")\n",
        "\n",
        "plt.xlabel(\"x\")\n",
        "plt.ylabel(\"y\")\n",
        "\n",
        "plt.legend(loc=\"best\")\n",
        "plt.show()"
      ]
    },
    {
      "cell_type": "markdown",
      "metadata": {
        "tags": [],
        "id": "gGeo_ybEkly5"
      },
      "source": [
        "## Task 2"
      ]
    },
    {
      "cell_type": "markdown",
      "metadata": {
        "tags": [],
        "id": "IqM_XkIhkly5"
      },
      "source": [
        "### Data processing\n",
        "#### Loading the dataset"
      ]
    },
    {
      "cell_type": "code",
      "execution_count": null,
      "metadata": {
        "jupyter": {
          "outputs_hidden": false
        },
        "id": "Cc_wG7dqkly6"
      },
      "outputs": [],
      "source": [
        "import pandas as pd\n",
        "# load the data\n",
        "data = pd.read_csv('pokemon_modified.csv')"
      ]
    },
    {
      "cell_type": "markdown",
      "metadata": {
        "tags": [],
        "id": "JV53Lkczkly6"
      },
      "source": [
        "#### Remove the 2 redundant features"
      ]
    },
    {
      "cell_type": "code",
      "execution_count": null,
      "metadata": {
        "id": "ZcL1n1vckly6",
        "outputId": "71244765-854c-421a-d62f-66b5af34b632"
      },
      "outputs": [
        {
          "name": "stdout",
          "output_type": "stream",
          "text": [
            "All names: 801, unique: 801\n",
            "All classifications: 801, unique: 588\n",
            "All types: 801, unique: 17\n"
          ]
        }
      ],
      "source": [
        "# there are 3 features that may be dropped: name, classification, and type, because they\n",
        "# are categorical features and may give no information. Let's check all of them to select 2\n",
        "# that we will drop\n",
        "\n",
        "name_unique = set(data['name'])\n",
        "classification_unique = set(data['classification'])\n",
        "type_unique = set(data['type1'])\n",
        "\n",
        "print(\"All names: 801, unique: %d\" %len(name_unique))\n",
        "print(\"All classifications: 801, unique: %d\" %len(classification_unique))\n",
        "print(\"All types: 801, unique: %d\" %len(type_unique))\n",
        "\n",
        "# given the fact, that the more unique classes we have, the less information we get about\n",
        "# each, we decide, that we need to drop name and classification column"
      ]
    },
    {
      "cell_type": "code",
      "execution_count": null,
      "metadata": {
        "jupyter": {
          "outputs_hidden": false
        },
        "id": "dv1T_mMskly6"
      },
      "outputs": [],
      "source": [
        "# split the data on input and target\n",
        "X = data.drop(['is_legendary', 'name', 'classification'], axis=1)\n",
        "\n",
        "y = data['is_legendary']"
      ]
    },
    {
      "cell_type": "markdown",
      "metadata": {
        "jp-MarkdownHeadingCollapsed": true,
        "tags": [],
        "id": "iI2Tqzy8kly7"
      },
      "source": [
        "#### Splitting the data\n",
        "random_state = 123, use stratify, test_size = 0.2"
      ]
    },
    {
      "cell_type": "code",
      "execution_count": null,
      "metadata": {
        "jupyter": {
          "outputs_hidden": false
        },
        "id": "OfObrMLxkly7"
      },
      "outputs": [],
      "source": [
        "from sklearn.model_selection import train_test_split\n",
        "# split the data with the ratio of 0.8/0.2\n",
        "X_train, X_test, y_train, y_test = train_test_split(X, y, test_size = 0.2, random_state=123, stratify=y)"
      ]
    },
    {
      "cell_type": "markdown",
      "metadata": {
        "id": "gSIuSq06kly7"
      },
      "source": [
        "Check if the dataset is balanced or not and comment on it"
      ]
    },
    {
      "cell_type": "code",
      "execution_count": null,
      "metadata": {
        "jupyter": {
          "outputs_hidden": false
        },
        "id": "eqf6Dcchkly8",
        "outputId": "fdc2cd7b-0b56-4af8-a088-6f8969d0e5ef"
      },
      "outputs": [
        {
          "name": "stdout",
          "output_type": "stream",
          "text": [
            "Number of elements in the first class (legendary): 70\n",
            "Number of elements in the second class (non-legendary): 731\n"
          ]
        }
      ],
      "source": [
        "# check if the dataset is balanced\n",
        "print(\"Number of elements in the first class (legendary): %d\" %np.sum(y))\n",
        "print(\"Number of elements in the second class (non-legendary): %d\" %(801 - np.sum(y)))\n",
        "\n",
        "# we see that quantity of elements in classes differ much, so the dataset id unbalanced"
      ]
    },
    {
      "cell_type": "markdown",
      "metadata": {
        "jp-MarkdownHeadingCollapsed": true,
        "tags": [],
        "id": "drr9znJMkly8"
      },
      "source": [
        "#### Exploring the dataset and checking for missing values"
      ]
    },
    {
      "cell_type": "code",
      "execution_count": null,
      "metadata": {
        "jupyter": {
          "outputs_hidden": false
        },
        "id": "hijw75S2kly8",
        "outputId": "29c51578-b5ea-4115-af9a-4c60b5711356"
      },
      "outputs": [
        {
          "data": {
            "text/html": [
              "<div>\n",
              "<style scoped>\n",
              "    .dataframe tbody tr th:only-of-type {\n",
              "        vertical-align: middle;\n",
              "    }\n",
              "\n",
              "    .dataframe tbody tr th {\n",
              "        vertical-align: top;\n",
              "    }\n",
              "\n",
              "    .dataframe thead th {\n",
              "        text-align: right;\n",
              "    }\n",
              "</style>\n",
              "<table border=\"1\" class=\"dataframe\">\n",
              "  <thead>\n",
              "    <tr style=\"text-align: right;\">\n",
              "      <th></th>\n",
              "      <th>against_bug</th>\n",
              "      <th>against_dark</th>\n",
              "      <th>against_dragon</th>\n",
              "      <th>against_electric</th>\n",
              "      <th>against_fairy</th>\n",
              "      <th>against_fight</th>\n",
              "      <th>against_fire</th>\n",
              "      <th>against_flying</th>\n",
              "      <th>against_ghost</th>\n",
              "      <th>against_grass</th>\n",
              "      <th>...</th>\n",
              "      <th>hp</th>\n",
              "      <th>name</th>\n",
              "      <th>percentage_male</th>\n",
              "      <th>type1</th>\n",
              "      <th>sp_attack</th>\n",
              "      <th>sp_defense</th>\n",
              "      <th>speed</th>\n",
              "      <th>weight_kg</th>\n",
              "      <th>generation</th>\n",
              "      <th>is_legendary</th>\n",
              "    </tr>\n",
              "  </thead>\n",
              "  <tbody>\n",
              "    <tr>\n",
              "      <th>0</th>\n",
              "      <td>1.0</td>\n",
              "      <td>1.0</td>\n",
              "      <td>1.0</td>\n",
              "      <td>0.5</td>\n",
              "      <td>0.5</td>\n",
              "      <td>0.5</td>\n",
              "      <td>2.0</td>\n",
              "      <td>2.0</td>\n",
              "      <td>1.0</td>\n",
              "      <td>0.25</td>\n",
              "      <td>...</td>\n",
              "      <td>45</td>\n",
              "      <td>Bulbasaur</td>\n",
              "      <td>88.1</td>\n",
              "      <td>grass</td>\n",
              "      <td>65</td>\n",
              "      <td>65</td>\n",
              "      <td>45</td>\n",
              "      <td>6.9</td>\n",
              "      <td>1</td>\n",
              "      <td>0</td>\n",
              "    </tr>\n",
              "    <tr>\n",
              "      <th>1</th>\n",
              "      <td>1.0</td>\n",
              "      <td>1.0</td>\n",
              "      <td>1.0</td>\n",
              "      <td>0.5</td>\n",
              "      <td>0.5</td>\n",
              "      <td>0.5</td>\n",
              "      <td>2.0</td>\n",
              "      <td>2.0</td>\n",
              "      <td>1.0</td>\n",
              "      <td>0.25</td>\n",
              "      <td>...</td>\n",
              "      <td>60</td>\n",
              "      <td>Ivysaur</td>\n",
              "      <td>88.1</td>\n",
              "      <td>grass</td>\n",
              "      <td>80</td>\n",
              "      <td>80</td>\n",
              "      <td>60</td>\n",
              "      <td>13.0</td>\n",
              "      <td>1</td>\n",
              "      <td>0</td>\n",
              "    </tr>\n",
              "    <tr>\n",
              "      <th>2</th>\n",
              "      <td>1.0</td>\n",
              "      <td>1.0</td>\n",
              "      <td>1.0</td>\n",
              "      <td>0.5</td>\n",
              "      <td>0.5</td>\n",
              "      <td>0.5</td>\n",
              "      <td>2.0</td>\n",
              "      <td>2.0</td>\n",
              "      <td>1.0</td>\n",
              "      <td>0.25</td>\n",
              "      <td>...</td>\n",
              "      <td>80</td>\n",
              "      <td>Venusaur</td>\n",
              "      <td>88.1</td>\n",
              "      <td>grass</td>\n",
              "      <td>122</td>\n",
              "      <td>120</td>\n",
              "      <td>80</td>\n",
              "      <td>100.0</td>\n",
              "      <td>1</td>\n",
              "      <td>0</td>\n",
              "    </tr>\n",
              "    <tr>\n",
              "      <th>3</th>\n",
              "      <td>0.5</td>\n",
              "      <td>1.0</td>\n",
              "      <td>1.0</td>\n",
              "      <td>1.0</td>\n",
              "      <td>0.5</td>\n",
              "      <td>1.0</td>\n",
              "      <td>0.5</td>\n",
              "      <td>1.0</td>\n",
              "      <td>1.0</td>\n",
              "      <td>0.50</td>\n",
              "      <td>...</td>\n",
              "      <td>39</td>\n",
              "      <td>Charmander</td>\n",
              "      <td>88.1</td>\n",
              "      <td>fire</td>\n",
              "      <td>60</td>\n",
              "      <td>50</td>\n",
              "      <td>65</td>\n",
              "      <td>8.5</td>\n",
              "      <td>1</td>\n",
              "      <td>0</td>\n",
              "    </tr>\n",
              "    <tr>\n",
              "      <th>4</th>\n",
              "      <td>0.5</td>\n",
              "      <td>1.0</td>\n",
              "      <td>1.0</td>\n",
              "      <td>1.0</td>\n",
              "      <td>0.5</td>\n",
              "      <td>1.0</td>\n",
              "      <td>0.5</td>\n",
              "      <td>1.0</td>\n",
              "      <td>1.0</td>\n",
              "      <td>0.50</td>\n",
              "      <td>...</td>\n",
              "      <td>58</td>\n",
              "      <td>Charmeleon</td>\n",
              "      <td>88.1</td>\n",
              "      <td>fire</td>\n",
              "      <td>80</td>\n",
              "      <td>65</td>\n",
              "      <td>80</td>\n",
              "      <td>19.0</td>\n",
              "      <td>1</td>\n",
              "      <td>0</td>\n",
              "    </tr>\n",
              "  </tbody>\n",
              "</table>\n",
              "<p>5 rows × 37 columns</p>\n",
              "</div>"
            ],
            "text/plain": [
              "   against_bug  against_dark  against_dragon  against_electric  against_fairy  \\\n",
              "0          1.0           1.0             1.0               0.5            0.5   \n",
              "1          1.0           1.0             1.0               0.5            0.5   \n",
              "2          1.0           1.0             1.0               0.5            0.5   \n",
              "3          0.5           1.0             1.0               1.0            0.5   \n",
              "4          0.5           1.0             1.0               1.0            0.5   \n",
              "\n",
              "   against_fight  against_fire  against_flying  against_ghost  against_grass  \\\n",
              "0            0.5           2.0             2.0            1.0           0.25   \n",
              "1            0.5           2.0             2.0            1.0           0.25   \n",
              "2            0.5           2.0             2.0            1.0           0.25   \n",
              "3            1.0           0.5             1.0            1.0           0.50   \n",
              "4            1.0           0.5             1.0            1.0           0.50   \n",
              "\n",
              "   ...  hp        name  percentage_male  type1  sp_attack  sp_defense  speed  \\\n",
              "0  ...  45   Bulbasaur             88.1  grass         65          65     45   \n",
              "1  ...  60     Ivysaur             88.1  grass         80          80     60   \n",
              "2  ...  80    Venusaur             88.1  grass        122         120     80   \n",
              "3  ...  39  Charmander             88.1   fire         60          50     65   \n",
              "4  ...  58  Charmeleon             88.1   fire         80          65     80   \n",
              "\n",
              "   weight_kg  generation  is_legendary  \n",
              "0        6.9           1             0  \n",
              "1       13.0           1             0  \n",
              "2      100.0           1             0  \n",
              "3        8.5           1             0  \n",
              "4       19.0           1             0  \n",
              "\n",
              "[5 rows x 37 columns]"
            ]
          },
          "execution_count": 20,
          "metadata": {},
          "output_type": "execute_result"
        }
      ],
      "source": [
        "# explore the dataset\n",
        "data.head()"
      ]
    },
    {
      "cell_type": "code",
      "execution_count": null,
      "metadata": {
        "jupyter": {
          "outputs_hidden": false
        },
        "id": "oMmrIdrkkly8",
        "outputId": "8200f563-208a-4346-dd3c-1528efc268d2"
      },
      "outputs": [
        {
          "name": "stdout",
          "output_type": "stream",
          "text": [
            "<class 'pandas.core.frame.DataFrame'>\n",
            "RangeIndex: 801 entries, 0 to 800\n",
            "Data columns (total 37 columns):\n",
            " #   Column             Non-Null Count  Dtype  \n",
            "---  ------             --------------  -----  \n",
            " 0   against_bug        801 non-null    float64\n",
            " 1   against_dark       801 non-null    float64\n",
            " 2   against_dragon     801 non-null    float64\n",
            " 3   against_electric   801 non-null    float64\n",
            " 4   against_fairy      801 non-null    float64\n",
            " 5   against_fight      801 non-null    float64\n",
            " 6   against_fire       801 non-null    float64\n",
            " 7   against_flying     801 non-null    float64\n",
            " 8   against_ghost      801 non-null    float64\n",
            " 9   against_grass      801 non-null    float64\n",
            " 10  against_ground     801 non-null    float64\n",
            " 11  against_ice        801 non-null    float64\n",
            " 12  against_normal     801 non-null    float64\n",
            " 13  against_poison     801 non-null    float64\n",
            " 14  against_psychic    801 non-null    float64\n",
            " 15  against_rock       801 non-null    float64\n",
            " 16  against_steel      801 non-null    float64\n",
            " 17  against_water      801 non-null    float64\n",
            " 18  attack             801 non-null    int64  \n",
            " 19  base_egg_steps     801 non-null    int64  \n",
            " 20  base_happiness     801 non-null    int64  \n",
            " 21  base_total         801 non-null    int64  \n",
            " 22  capture_rate       801 non-null    int64  \n",
            " 23  classification     801 non-null    object \n",
            " 24  defense            801 non-null    int64  \n",
            " 25  experience_growth  801 non-null    int64  \n",
            " 26  height_m           781 non-null    float64\n",
            " 27  hp                 801 non-null    int64  \n",
            " 28  name               801 non-null    object \n",
            " 29  percentage_male    703 non-null    float64\n",
            " 30  type1              801 non-null    object \n",
            " 31  sp_attack          801 non-null    int64  \n",
            " 32  sp_defense         801 non-null    int64  \n",
            " 33  speed              801 non-null    int64  \n",
            " 34  weight_kg          781 non-null    float64\n",
            " 35  generation         801 non-null    int64  \n",
            " 36  is_legendary       801 non-null    int64  \n",
            "dtypes: float64(21), int64(13), object(3)\n",
            "memory usage: 231.7+ KB\n"
          ]
        }
      ],
      "source": [
        "# we check the data instead of X_train and X_test, because we did not modify the data yet\n",
        "data.info()\n",
        "\n",
        "# here we see that features height_m, percentage_male and weight_kg have missing values"
      ]
    },
    {
      "cell_type": "markdown",
      "metadata": {
        "jp-MarkdownHeadingCollapsed": true,
        "tags": [],
        "id": "T6aXgyc7kly8"
      },
      "source": [
        "#### Impute the missing values"
      ]
    },
    {
      "cell_type": "code",
      "execution_count": null,
      "metadata": {
        "jupyter": {
          "outputs_hidden": false
        },
        "id": "1Qb902z9kly8"
      },
      "outputs": [],
      "source": [
        "from sklearn.impute import SimpleImputer\n",
        "\n",
        "# initialize imputer with the \"mean\" strategy\n",
        "imputer = SimpleImputer(strategy='mean')\n",
        "\n",
        "# impute the missing values in X_train and X_test\n",
        "X_train['height_m'] = imputer.fit_transform(np.asarray(X_train['height_m'])[:, np.newaxis])\n",
        "X_train['percentage_male'] = imputer.fit_transform(np.asarray(X_train['percentage_male'])[:, np.newaxis])\n",
        "X_train['weight_kg'] = imputer.fit_transform(np.asarray(X_train['weight_kg'])[:, np.newaxis])\n",
        "\n",
        "X_test['height_m'] = imputer.fit_transform(np.asarray(X_test['height_m'])[:, np.newaxis])\n",
        "X_test['percentage_male'] = imputer.fit_transform(np.asarray(X_test['percentage_male'])[:, np.newaxis])\n",
        "X_test['weight_kg'] = imputer.fit_transform(np.asarray(X_test['weight_kg'])[:, np.newaxis])"
      ]
    },
    {
      "cell_type": "markdown",
      "metadata": {
        "jp-MarkdownHeadingCollapsed": true,
        "tags": [],
        "id": "8Wdd3qI8kly9"
      },
      "source": [
        "#### Double check that there are no missing values"
      ]
    },
    {
      "cell_type": "code",
      "execution_count": null,
      "metadata": {
        "jupyter": {
          "outputs_hidden": false
        },
        "id": "N2maA43zkly9",
        "outputId": "16ec88a1-1416-423b-9dbb-f34f7e1b47f8"
      },
      "outputs": [
        {
          "name": "stdout",
          "output_type": "stream",
          "text": [
            "<class 'pandas.core.frame.DataFrame'>\n",
            "Int64Index: 640 entries, 564 to 693\n",
            "Data columns (total 34 columns):\n",
            " #   Column             Non-Null Count  Dtype  \n",
            "---  ------             --------------  -----  \n",
            " 0   against_bug        640 non-null    float64\n",
            " 1   against_dark       640 non-null    float64\n",
            " 2   against_dragon     640 non-null    float64\n",
            " 3   against_electric   640 non-null    float64\n",
            " 4   against_fairy      640 non-null    float64\n",
            " 5   against_fight      640 non-null    float64\n",
            " 6   against_fire       640 non-null    float64\n",
            " 7   against_flying     640 non-null    float64\n",
            " 8   against_ghost      640 non-null    float64\n",
            " 9   against_grass      640 non-null    float64\n",
            " 10  against_ground     640 non-null    float64\n",
            " 11  against_ice        640 non-null    float64\n",
            " 12  against_normal     640 non-null    float64\n",
            " 13  against_poison     640 non-null    float64\n",
            " 14  against_psychic    640 non-null    float64\n",
            " 15  against_rock       640 non-null    float64\n",
            " 16  against_steel      640 non-null    float64\n",
            " 17  against_water      640 non-null    float64\n",
            " 18  attack             640 non-null    int64  \n",
            " 19  base_egg_steps     640 non-null    int64  \n",
            " 20  base_happiness     640 non-null    int64  \n",
            " 21  base_total         640 non-null    int64  \n",
            " 22  capture_rate       640 non-null    int64  \n",
            " 23  defense            640 non-null    int64  \n",
            " 24  experience_growth  640 non-null    int64  \n",
            " 25  height_m           640 non-null    float64\n",
            " 26  hp                 640 non-null    int64  \n",
            " 27  percentage_male    640 non-null    float64\n",
            " 28  type1              640 non-null    object \n",
            " 29  sp_attack          640 non-null    int64  \n",
            " 30  sp_defense         640 non-null    int64  \n",
            " 31  speed              640 non-null    int64  \n",
            " 32  weight_kg          640 non-null    float64\n",
            " 33  generation         640 non-null    int64  \n",
            "dtypes: float64(21), int64(12), object(1)\n",
            "memory usage: 175.0+ KB\n"
          ]
        }
      ],
      "source": [
        "# double check that there are no missing values\n",
        "X_train.info()"
      ]
    },
    {
      "cell_type": "code",
      "execution_count": null,
      "metadata": {
        "id": "G7TjIJjqkly9",
        "outputId": "01cc943b-1a50-4916-9ef2-9b856c193179"
      },
      "outputs": [
        {
          "name": "stdout",
          "output_type": "stream",
          "text": [
            "<class 'pandas.core.frame.DataFrame'>\n",
            "Int64Index: 161 entries, 574 to 219\n",
            "Data columns (total 34 columns):\n",
            " #   Column             Non-Null Count  Dtype  \n",
            "---  ------             --------------  -----  \n",
            " 0   against_bug        161 non-null    float64\n",
            " 1   against_dark       161 non-null    float64\n",
            " 2   against_dragon     161 non-null    float64\n",
            " 3   against_electric   161 non-null    float64\n",
            " 4   against_fairy      161 non-null    float64\n",
            " 5   against_fight      161 non-null    float64\n",
            " 6   against_fire       161 non-null    float64\n",
            " 7   against_flying     161 non-null    float64\n",
            " 8   against_ghost      161 non-null    float64\n",
            " 9   against_grass      161 non-null    float64\n",
            " 10  against_ground     161 non-null    float64\n",
            " 11  against_ice        161 non-null    float64\n",
            " 12  against_normal     161 non-null    float64\n",
            " 13  against_poison     161 non-null    float64\n",
            " 14  against_psychic    161 non-null    float64\n",
            " 15  against_rock       161 non-null    float64\n",
            " 16  against_steel      161 non-null    float64\n",
            " 17  against_water      161 non-null    float64\n",
            " 18  attack             161 non-null    int64  \n",
            " 19  base_egg_steps     161 non-null    int64  \n",
            " 20  base_happiness     161 non-null    int64  \n",
            " 21  base_total         161 non-null    int64  \n",
            " 22  capture_rate       161 non-null    int64  \n",
            " 23  defense            161 non-null    int64  \n",
            " 24  experience_growth  161 non-null    int64  \n",
            " 25  height_m           161 non-null    float64\n",
            " 26  hp                 161 non-null    int64  \n",
            " 27  percentage_male    161 non-null    float64\n",
            " 28  type1              161 non-null    object \n",
            " 29  sp_attack          161 non-null    int64  \n",
            " 30  sp_defense         161 non-null    int64  \n",
            " 31  speed              161 non-null    int64  \n",
            " 32  weight_kg          161 non-null    float64\n",
            " 33  generation         161 non-null    int64  \n",
            "dtypes: float64(21), int64(12), object(1)\n",
            "memory usage: 44.0+ KB\n"
          ]
        }
      ],
      "source": [
        "# check the X_test also\n",
        "X_test.info()"
      ]
    },
    {
      "cell_type": "markdown",
      "metadata": {
        "jp-MarkdownHeadingCollapsed": true,
        "tags": [],
        "id": "l0kEP2Pmkly9"
      },
      "source": [
        "#### Encode categorically"
      ]
    },
    {
      "cell_type": "code",
      "execution_count": null,
      "metadata": {
        "jupyter": {
          "outputs_hidden": false
        },
        "id": "CWHr6H_Nkly9",
        "outputId": "69dfd86d-dee7-4572-e215-a7629a19a59f"
      },
      "outputs": [
        {
          "data": {
            "text/html": [
              "<div>\n",
              "<style scoped>\n",
              "    .dataframe tbody tr th:only-of-type {\n",
              "        vertical-align: middle;\n",
              "    }\n",
              "\n",
              "    .dataframe tbody tr th {\n",
              "        vertical-align: top;\n",
              "    }\n",
              "\n",
              "    .dataframe thead th {\n",
              "        text-align: right;\n",
              "    }\n",
              "</style>\n",
              "<table border=\"1\" class=\"dataframe\">\n",
              "  <thead>\n",
              "    <tr style=\"text-align: right;\">\n",
              "      <th></th>\n",
              "      <th>against_bug</th>\n",
              "      <th>against_dark</th>\n",
              "      <th>against_dragon</th>\n",
              "      <th>against_electric</th>\n",
              "      <th>against_fairy</th>\n",
              "      <th>against_fight</th>\n",
              "      <th>against_fire</th>\n",
              "      <th>against_flying</th>\n",
              "      <th>against_ghost</th>\n",
              "      <th>against_grass</th>\n",
              "      <th>...</th>\n",
              "      <th>experience_growth</th>\n",
              "      <th>height_m</th>\n",
              "      <th>hp</th>\n",
              "      <th>percentage_male</th>\n",
              "      <th>type1</th>\n",
              "      <th>sp_attack</th>\n",
              "      <th>sp_defense</th>\n",
              "      <th>speed</th>\n",
              "      <th>weight_kg</th>\n",
              "      <th>generation</th>\n",
              "    </tr>\n",
              "  </thead>\n",
              "  <tbody>\n",
              "    <tr>\n",
              "      <th>564</th>\n",
              "      <td>1.0</td>\n",
              "      <td>1.0</td>\n",
              "      <td>1.0</td>\n",
              "      <td>2.0</td>\n",
              "      <td>1.0</td>\n",
              "      <td>2.0</td>\n",
              "      <td>0.25</td>\n",
              "      <td>0.5</td>\n",
              "      <td>1.0</td>\n",
              "      <td>4.00</td>\n",
              "      <td>...</td>\n",
              "      <td>1000000</td>\n",
              "      <td>1.2</td>\n",
              "      <td>74</td>\n",
              "      <td>88.100000</td>\n",
              "      <td>water</td>\n",
              "      <td>83</td>\n",
              "      <td>65</td>\n",
              "      <td>32</td>\n",
              "      <td>81.0</td>\n",
              "      <td>5</td>\n",
              "    </tr>\n",
              "    <tr>\n",
              "      <th>493</th>\n",
              "      <td>1.0</td>\n",
              "      <td>2.0</td>\n",
              "      <td>1.0</td>\n",
              "      <td>1.0</td>\n",
              "      <td>0.5</td>\n",
              "      <td>0.5</td>\n",
              "      <td>0.50</td>\n",
              "      <td>1.0</td>\n",
              "      <td>2.0</td>\n",
              "      <td>0.50</td>\n",
              "      <td>...</td>\n",
              "      <td>1250000</td>\n",
              "      <td>0.4</td>\n",
              "      <td>100</td>\n",
              "      <td>55.070736</td>\n",
              "      <td>psychic</td>\n",
              "      <td>100</td>\n",
              "      <td>100</td>\n",
              "      <td>100</td>\n",
              "      <td>4.0</td>\n",
              "      <td>5</td>\n",
              "    </tr>\n",
              "    <tr>\n",
              "      <th>70</th>\n",
              "      <td>1.0</td>\n",
              "      <td>1.0</td>\n",
              "      <td>1.0</td>\n",
              "      <td>0.5</td>\n",
              "      <td>0.5</td>\n",
              "      <td>0.5</td>\n",
              "      <td>2.00</td>\n",
              "      <td>2.0</td>\n",
              "      <td>1.0</td>\n",
              "      <td>0.25</td>\n",
              "      <td>...</td>\n",
              "      <td>1059860</td>\n",
              "      <td>1.7</td>\n",
              "      <td>80</td>\n",
              "      <td>50.000000</td>\n",
              "      <td>grass</td>\n",
              "      <td>100</td>\n",
              "      <td>70</td>\n",
              "      <td>70</td>\n",
              "      <td>15.5</td>\n",
              "      <td>1</td>\n",
              "    </tr>\n",
              "    <tr>\n",
              "      <th>240</th>\n",
              "      <td>1.0</td>\n",
              "      <td>1.0</td>\n",
              "      <td>1.0</td>\n",
              "      <td>1.0</td>\n",
              "      <td>1.0</td>\n",
              "      <td>2.0</td>\n",
              "      <td>1.00</td>\n",
              "      <td>1.0</td>\n",
              "      <td>0.0</td>\n",
              "      <td>1.00</td>\n",
              "      <td>...</td>\n",
              "      <td>1250000</td>\n",
              "      <td>1.2</td>\n",
              "      <td>95</td>\n",
              "      <td>0.000000</td>\n",
              "      <td>normal</td>\n",
              "      <td>40</td>\n",
              "      <td>70</td>\n",
              "      <td>100</td>\n",
              "      <td>75.5</td>\n",
              "      <td>2</td>\n",
              "    </tr>\n",
              "    <tr>\n",
              "      <th>749</th>\n",
              "      <td>1.0</td>\n",
              "      <td>1.0</td>\n",
              "      <td>1.0</td>\n",
              "      <td>0.0</td>\n",
              "      <td>1.0</td>\n",
              "      <td>1.0</td>\n",
              "      <td>1.00</td>\n",
              "      <td>1.0</td>\n",
              "      <td>1.0</td>\n",
              "      <td>2.00</td>\n",
              "      <td>...</td>\n",
              "      <td>1000000</td>\n",
              "      <td>2.5</td>\n",
              "      <td>100</td>\n",
              "      <td>50.000000</td>\n",
              "      <td>ground</td>\n",
              "      <td>55</td>\n",
              "      <td>85</td>\n",
              "      <td>35</td>\n",
              "      <td>920.0</td>\n",
              "      <td>7</td>\n",
              "    </tr>\n",
              "  </tbody>\n",
              "</table>\n",
              "<p>5 rows × 34 columns</p>\n",
              "</div>"
            ],
            "text/plain": [
              "     against_bug  against_dark  against_dragon  against_electric  \\\n",
              "564          1.0           1.0             1.0               2.0   \n",
              "493          1.0           2.0             1.0               1.0   \n",
              "70           1.0           1.0             1.0               0.5   \n",
              "240          1.0           1.0             1.0               1.0   \n",
              "749          1.0           1.0             1.0               0.0   \n",
              "\n",
              "     against_fairy  against_fight  against_fire  against_flying  \\\n",
              "564            1.0            2.0          0.25             0.5   \n",
              "493            0.5            0.5          0.50             1.0   \n",
              "70             0.5            0.5          2.00             2.0   \n",
              "240            1.0            2.0          1.00             1.0   \n",
              "749            1.0            1.0          1.00             1.0   \n",
              "\n",
              "     against_ghost  against_grass  ...  experience_growth  height_m   hp  \\\n",
              "564            1.0           4.00  ...            1000000       1.2   74   \n",
              "493            2.0           0.50  ...            1250000       0.4  100   \n",
              "70             1.0           0.25  ...            1059860       1.7   80   \n",
              "240            0.0           1.00  ...            1250000       1.2   95   \n",
              "749            1.0           2.00  ...            1000000       2.5  100   \n",
              "\n",
              "     percentage_male    type1  sp_attack  sp_defense  speed  weight_kg  \\\n",
              "564        88.100000    water         83          65     32       81.0   \n",
              "493        55.070736  psychic        100         100    100        4.0   \n",
              "70         50.000000    grass        100          70     70       15.5   \n",
              "240         0.000000   normal         40          70    100       75.5   \n",
              "749        50.000000   ground         55          85     35      920.0   \n",
              "\n",
              "     generation  \n",
              "564           5  \n",
              "493           5  \n",
              "70            1  \n",
              "240           2  \n",
              "749           7  \n",
              "\n",
              "[5 rows x 34 columns]"
            ]
          },
          "execution_count": 25,
          "metadata": {},
          "output_type": "execute_result"
        }
      ],
      "source": [
        "X_train.head()\n",
        "\n",
        "# check what we need to encode - just type1"
      ]
    },
    {
      "cell_type": "code",
      "execution_count": null,
      "metadata": {
        "jupyter": {
          "outputs_hidden": false
        },
        "id": "RquRFrtVkly-"
      },
      "outputs": [],
      "source": [
        "from sklearn.preprocessing import OneHotEncoder\n",
        "\n",
        "# initialize encoder, fit and transform the values\n",
        "encoder = OneHotEncoder(drop='first')\n",
        "train = encoder.fit_transform(X_train[['type1']]).toarray()\n",
        "test = encoder.fit_transform(X_test[['type1']]).toarray()\n",
        "\n",
        "# make from the new data a dataframe\n",
        "new_col_train = pd.DataFrame(train, columns=encoder.get_feature_names_out())\n",
        "new_col_test = pd.DataFrame(test, columns=encoder.get_feature_names_out())\n",
        "\n",
        "# fix indexes, concatenate and drop the column 'type1'\n",
        "new_col_train.index = X_train.index\n",
        "X_train = pd.concat([X_train, new_col_train], axis=1)\n",
        "X_train.drop('type1', axis=1, inplace=True)\n",
        "\n",
        "# fix indexes, concatenate and drop the column 'type1'\n",
        "new_col_test.index = X_test.index\n",
        "X_test = pd.concat([X_test, new_col_test], axis=1)\n",
        "X_test.drop('type1', axis=1, inplace=True)"
      ]
    },
    {
      "cell_type": "code",
      "execution_count": null,
      "metadata": {
        "jupyter": {
          "outputs_hidden": false
        },
        "id": "wZNpEgdNkly-",
        "outputId": "65ba34f1-7e9a-40bd-9351-5d3c37af005b"
      },
      "outputs": [
        {
          "data": {
            "text/html": [
              "<div>\n",
              "<style scoped>\n",
              "    .dataframe tbody tr th:only-of-type {\n",
              "        vertical-align: middle;\n",
              "    }\n",
              "\n",
              "    .dataframe tbody tr th {\n",
              "        vertical-align: top;\n",
              "    }\n",
              "\n",
              "    .dataframe thead th {\n",
              "        text-align: right;\n",
              "    }\n",
              "</style>\n",
              "<table border=\"1\" class=\"dataframe\">\n",
              "  <thead>\n",
              "    <tr style=\"text-align: right;\">\n",
              "      <th></th>\n",
              "      <th>against_bug</th>\n",
              "      <th>against_dark</th>\n",
              "      <th>against_dragon</th>\n",
              "      <th>against_electric</th>\n",
              "      <th>against_fairy</th>\n",
              "      <th>against_fight</th>\n",
              "      <th>against_fire</th>\n",
              "      <th>against_flying</th>\n",
              "      <th>against_ghost</th>\n",
              "      <th>against_grass</th>\n",
              "      <th>...</th>\n",
              "      <th>type1_ghost</th>\n",
              "      <th>type1_grass</th>\n",
              "      <th>type1_ground</th>\n",
              "      <th>type1_ice</th>\n",
              "      <th>type1_normal</th>\n",
              "      <th>type1_poison</th>\n",
              "      <th>type1_psychic</th>\n",
              "      <th>type1_rock</th>\n",
              "      <th>type1_steel</th>\n",
              "      <th>type1_water</th>\n",
              "    </tr>\n",
              "  </thead>\n",
              "  <tbody>\n",
              "    <tr>\n",
              "      <th>564</th>\n",
              "      <td>1.0</td>\n",
              "      <td>1.0</td>\n",
              "      <td>1.0</td>\n",
              "      <td>2.0</td>\n",
              "      <td>1.0</td>\n",
              "      <td>2.0</td>\n",
              "      <td>0.25</td>\n",
              "      <td>0.5</td>\n",
              "      <td>1.0</td>\n",
              "      <td>4.00</td>\n",
              "      <td>...</td>\n",
              "      <td>0.0</td>\n",
              "      <td>0.0</td>\n",
              "      <td>0.0</td>\n",
              "      <td>0.0</td>\n",
              "      <td>0.0</td>\n",
              "      <td>0.0</td>\n",
              "      <td>0.0</td>\n",
              "      <td>0.0</td>\n",
              "      <td>0.0</td>\n",
              "      <td>1.0</td>\n",
              "    </tr>\n",
              "    <tr>\n",
              "      <th>493</th>\n",
              "      <td>1.0</td>\n",
              "      <td>2.0</td>\n",
              "      <td>1.0</td>\n",
              "      <td>1.0</td>\n",
              "      <td>0.5</td>\n",
              "      <td>0.5</td>\n",
              "      <td>0.50</td>\n",
              "      <td>1.0</td>\n",
              "      <td>2.0</td>\n",
              "      <td>0.50</td>\n",
              "      <td>...</td>\n",
              "      <td>0.0</td>\n",
              "      <td>0.0</td>\n",
              "      <td>0.0</td>\n",
              "      <td>0.0</td>\n",
              "      <td>0.0</td>\n",
              "      <td>0.0</td>\n",
              "      <td>1.0</td>\n",
              "      <td>0.0</td>\n",
              "      <td>0.0</td>\n",
              "      <td>0.0</td>\n",
              "    </tr>\n",
              "    <tr>\n",
              "      <th>70</th>\n",
              "      <td>1.0</td>\n",
              "      <td>1.0</td>\n",
              "      <td>1.0</td>\n",
              "      <td>0.5</td>\n",
              "      <td>0.5</td>\n",
              "      <td>0.5</td>\n",
              "      <td>2.00</td>\n",
              "      <td>2.0</td>\n",
              "      <td>1.0</td>\n",
              "      <td>0.25</td>\n",
              "      <td>...</td>\n",
              "      <td>0.0</td>\n",
              "      <td>1.0</td>\n",
              "      <td>0.0</td>\n",
              "      <td>0.0</td>\n",
              "      <td>0.0</td>\n",
              "      <td>0.0</td>\n",
              "      <td>0.0</td>\n",
              "      <td>0.0</td>\n",
              "      <td>0.0</td>\n",
              "      <td>0.0</td>\n",
              "    </tr>\n",
              "    <tr>\n",
              "      <th>240</th>\n",
              "      <td>1.0</td>\n",
              "      <td>1.0</td>\n",
              "      <td>1.0</td>\n",
              "      <td>1.0</td>\n",
              "      <td>1.0</td>\n",
              "      <td>2.0</td>\n",
              "      <td>1.00</td>\n",
              "      <td>1.0</td>\n",
              "      <td>0.0</td>\n",
              "      <td>1.00</td>\n",
              "      <td>...</td>\n",
              "      <td>0.0</td>\n",
              "      <td>0.0</td>\n",
              "      <td>0.0</td>\n",
              "      <td>0.0</td>\n",
              "      <td>1.0</td>\n",
              "      <td>0.0</td>\n",
              "      <td>0.0</td>\n",
              "      <td>0.0</td>\n",
              "      <td>0.0</td>\n",
              "      <td>0.0</td>\n",
              "    </tr>\n",
              "    <tr>\n",
              "      <th>749</th>\n",
              "      <td>1.0</td>\n",
              "      <td>1.0</td>\n",
              "      <td>1.0</td>\n",
              "      <td>0.0</td>\n",
              "      <td>1.0</td>\n",
              "      <td>1.0</td>\n",
              "      <td>1.00</td>\n",
              "      <td>1.0</td>\n",
              "      <td>1.0</td>\n",
              "      <td>2.00</td>\n",
              "      <td>...</td>\n",
              "      <td>0.0</td>\n",
              "      <td>0.0</td>\n",
              "      <td>1.0</td>\n",
              "      <td>0.0</td>\n",
              "      <td>0.0</td>\n",
              "      <td>0.0</td>\n",
              "      <td>0.0</td>\n",
              "      <td>0.0</td>\n",
              "      <td>0.0</td>\n",
              "      <td>0.0</td>\n",
              "    </tr>\n",
              "    <tr>\n",
              "      <th>...</th>\n",
              "      <td>...</td>\n",
              "      <td>...</td>\n",
              "      <td>...</td>\n",
              "      <td>...</td>\n",
              "      <td>...</td>\n",
              "      <td>...</td>\n",
              "      <td>...</td>\n",
              "      <td>...</td>\n",
              "      <td>...</td>\n",
              "      <td>...</td>\n",
              "      <td>...</td>\n",
              "      <td>...</td>\n",
              "      <td>...</td>\n",
              "      <td>...</td>\n",
              "      <td>...</td>\n",
              "      <td>...</td>\n",
              "      <td>...</td>\n",
              "      <td>...</td>\n",
              "      <td>...</td>\n",
              "      <td>...</td>\n",
              "      <td>...</td>\n",
              "    </tr>\n",
              "    <tr>\n",
              "      <th>407</th>\n",
              "      <td>1.0</td>\n",
              "      <td>1.0</td>\n",
              "      <td>1.0</td>\n",
              "      <td>1.0</td>\n",
              "      <td>1.0</td>\n",
              "      <td>2.0</td>\n",
              "      <td>0.50</td>\n",
              "      <td>0.5</td>\n",
              "      <td>1.0</td>\n",
              "      <td>2.00</td>\n",
              "      <td>...</td>\n",
              "      <td>0.0</td>\n",
              "      <td>0.0</td>\n",
              "      <td>0.0</td>\n",
              "      <td>0.0</td>\n",
              "      <td>0.0</td>\n",
              "      <td>0.0</td>\n",
              "      <td>0.0</td>\n",
              "      <td>1.0</td>\n",
              "      <td>0.0</td>\n",
              "      <td>0.0</td>\n",
              "    </tr>\n",
              "    <tr>\n",
              "      <th>54</th>\n",
              "      <td>1.0</td>\n",
              "      <td>1.0</td>\n",
              "      <td>1.0</td>\n",
              "      <td>2.0</td>\n",
              "      <td>1.0</td>\n",
              "      <td>1.0</td>\n",
              "      <td>0.50</td>\n",
              "      <td>1.0</td>\n",
              "      <td>1.0</td>\n",
              "      <td>2.00</td>\n",
              "      <td>...</td>\n",
              "      <td>0.0</td>\n",
              "      <td>0.0</td>\n",
              "      <td>0.0</td>\n",
              "      <td>0.0</td>\n",
              "      <td>0.0</td>\n",
              "      <td>0.0</td>\n",
              "      <td>0.0</td>\n",
              "      <td>0.0</td>\n",
              "      <td>0.0</td>\n",
              "      <td>1.0</td>\n",
              "    </tr>\n",
              "    <tr>\n",
              "      <th>0</th>\n",
              "      <td>1.0</td>\n",
              "      <td>1.0</td>\n",
              "      <td>1.0</td>\n",
              "      <td>0.5</td>\n",
              "      <td>0.5</td>\n",
              "      <td>0.5</td>\n",
              "      <td>2.00</td>\n",
              "      <td>2.0</td>\n",
              "      <td>1.0</td>\n",
              "      <td>0.25</td>\n",
              "      <td>...</td>\n",
              "      <td>0.0</td>\n",
              "      <td>1.0</td>\n",
              "      <td>0.0</td>\n",
              "      <td>0.0</td>\n",
              "      <td>0.0</td>\n",
              "      <td>0.0</td>\n",
              "      <td>0.0</td>\n",
              "      <td>0.0</td>\n",
              "      <td>0.0</td>\n",
              "      <td>0.0</td>\n",
              "    </tr>\n",
              "    <tr>\n",
              "      <th>289</th>\n",
              "      <td>1.0</td>\n",
              "      <td>1.0</td>\n",
              "      <td>1.0</td>\n",
              "      <td>0.0</td>\n",
              "      <td>1.0</td>\n",
              "      <td>0.5</td>\n",
              "      <td>2.00</td>\n",
              "      <td>2.0</td>\n",
              "      <td>1.0</td>\n",
              "      <td>1.00</td>\n",
              "      <td>...</td>\n",
              "      <td>0.0</td>\n",
              "      <td>0.0</td>\n",
              "      <td>0.0</td>\n",
              "      <td>0.0</td>\n",
              "      <td>0.0</td>\n",
              "      <td>0.0</td>\n",
              "      <td>0.0</td>\n",
              "      <td>0.0</td>\n",
              "      <td>0.0</td>\n",
              "      <td>0.0</td>\n",
              "    </tr>\n",
              "    <tr>\n",
              "      <th>693</th>\n",
              "      <td>1.0</td>\n",
              "      <td>1.0</td>\n",
              "      <td>1.0</td>\n",
              "      <td>0.5</td>\n",
              "      <td>1.0</td>\n",
              "      <td>2.0</td>\n",
              "      <td>1.00</td>\n",
              "      <td>0.5</td>\n",
              "      <td>0.0</td>\n",
              "      <td>1.00</td>\n",
              "      <td>...</td>\n",
              "      <td>0.0</td>\n",
              "      <td>0.0</td>\n",
              "      <td>0.0</td>\n",
              "      <td>0.0</td>\n",
              "      <td>0.0</td>\n",
              "      <td>0.0</td>\n",
              "      <td>0.0</td>\n",
              "      <td>0.0</td>\n",
              "      <td>0.0</td>\n",
              "      <td>0.0</td>\n",
              "    </tr>\n",
              "  </tbody>\n",
              "</table>\n",
              "<p>640 rows × 49 columns</p>\n",
              "</div>"
            ],
            "text/plain": [
              "     against_bug  against_dark  against_dragon  against_electric  \\\n",
              "564          1.0           1.0             1.0               2.0   \n",
              "493          1.0           2.0             1.0               1.0   \n",
              "70           1.0           1.0             1.0               0.5   \n",
              "240          1.0           1.0             1.0               1.0   \n",
              "749          1.0           1.0             1.0               0.0   \n",
              "..           ...           ...             ...               ...   \n",
              "407          1.0           1.0             1.0               1.0   \n",
              "54           1.0           1.0             1.0               2.0   \n",
              "0            1.0           1.0             1.0               0.5   \n",
              "289          1.0           1.0             1.0               0.0   \n",
              "693          1.0           1.0             1.0               0.5   \n",
              "\n",
              "     against_fairy  against_fight  against_fire  against_flying  \\\n",
              "564            1.0            2.0          0.25             0.5   \n",
              "493            0.5            0.5          0.50             1.0   \n",
              "70             0.5            0.5          2.00             2.0   \n",
              "240            1.0            2.0          1.00             1.0   \n",
              "749            1.0            1.0          1.00             1.0   \n",
              "..             ...            ...           ...             ...   \n",
              "407            1.0            2.0          0.50             0.5   \n",
              "54             1.0            1.0          0.50             1.0   \n",
              "0              0.5            0.5          2.00             2.0   \n",
              "289            1.0            0.5          2.00             2.0   \n",
              "693            1.0            2.0          1.00             0.5   \n",
              "\n",
              "     against_ghost  against_grass  ...  type1_ghost  type1_grass  \\\n",
              "564            1.0           4.00  ...          0.0          0.0   \n",
              "493            2.0           0.50  ...          0.0          0.0   \n",
              "70             1.0           0.25  ...          0.0          1.0   \n",
              "240            0.0           1.00  ...          0.0          0.0   \n",
              "749            1.0           2.00  ...          0.0          0.0   \n",
              "..             ...            ...  ...          ...          ...   \n",
              "407            1.0           2.00  ...          0.0          0.0   \n",
              "54             1.0           2.00  ...          0.0          0.0   \n",
              "0              1.0           0.25  ...          0.0          1.0   \n",
              "289            1.0           1.00  ...          0.0          0.0   \n",
              "693            0.0           1.00  ...          0.0          0.0   \n",
              "\n",
              "     type1_ground  type1_ice  type1_normal  type1_poison  type1_psychic  \\\n",
              "564           0.0        0.0           0.0           0.0            0.0   \n",
              "493           0.0        0.0           0.0           0.0            1.0   \n",
              "70            0.0        0.0           0.0           0.0            0.0   \n",
              "240           0.0        0.0           1.0           0.0            0.0   \n",
              "749           1.0        0.0           0.0           0.0            0.0   \n",
              "..            ...        ...           ...           ...            ...   \n",
              "407           0.0        0.0           0.0           0.0            0.0   \n",
              "54            0.0        0.0           0.0           0.0            0.0   \n",
              "0             0.0        0.0           0.0           0.0            0.0   \n",
              "289           0.0        0.0           0.0           0.0            0.0   \n",
              "693           0.0        0.0           0.0           0.0            0.0   \n",
              "\n",
              "     type1_rock  type1_steel  type1_water  \n",
              "564         0.0          0.0          1.0  \n",
              "493         0.0          0.0          0.0  \n",
              "70          0.0          0.0          0.0  \n",
              "240         0.0          0.0          0.0  \n",
              "749         0.0          0.0          0.0  \n",
              "..          ...          ...          ...  \n",
              "407         1.0          0.0          0.0  \n",
              "54          0.0          0.0          1.0  \n",
              "0           0.0          0.0          0.0  \n",
              "289         0.0          0.0          0.0  \n",
              "693         0.0          0.0          0.0  \n",
              "\n",
              "[640 rows x 49 columns]"
            ]
          },
          "execution_count": 25,
          "metadata": {},
          "output_type": "execute_result"
        }
      ],
      "source": [
        "# check if we did everything right\n",
        "X_train"
      ]
    },
    {
      "cell_type": "code",
      "execution_count": null,
      "metadata": {
        "id": "eR4232qRkly-",
        "outputId": "c93e624d-7672-45ab-893f-eb52fd7e1e25"
      },
      "outputs": [
        {
          "data": {
            "text/html": [
              "<div>\n",
              "<style scoped>\n",
              "    .dataframe tbody tr th:only-of-type {\n",
              "        vertical-align: middle;\n",
              "    }\n",
              "\n",
              "    .dataframe tbody tr th {\n",
              "        vertical-align: top;\n",
              "    }\n",
              "\n",
              "    .dataframe thead th {\n",
              "        text-align: right;\n",
              "    }\n",
              "</style>\n",
              "<table border=\"1\" class=\"dataframe\">\n",
              "  <thead>\n",
              "    <tr style=\"text-align: right;\">\n",
              "      <th></th>\n",
              "      <th>against_bug</th>\n",
              "      <th>against_dark</th>\n",
              "      <th>against_dragon</th>\n",
              "      <th>against_electric</th>\n",
              "      <th>against_fairy</th>\n",
              "      <th>against_fight</th>\n",
              "      <th>against_fire</th>\n",
              "      <th>against_flying</th>\n",
              "      <th>against_ghost</th>\n",
              "      <th>against_grass</th>\n",
              "      <th>...</th>\n",
              "      <th>type1_ghost</th>\n",
              "      <th>type1_grass</th>\n",
              "      <th>type1_ground</th>\n",
              "      <th>type1_ice</th>\n",
              "      <th>type1_normal</th>\n",
              "      <th>type1_poison</th>\n",
              "      <th>type1_psychic</th>\n",
              "      <th>type1_rock</th>\n",
              "      <th>type1_steel</th>\n",
              "      <th>type1_water</th>\n",
              "    </tr>\n",
              "  </thead>\n",
              "  <tbody>\n",
              "    <tr>\n",
              "      <th>574</th>\n",
              "      <td>2.0</td>\n",
              "      <td>2.0</td>\n",
              "      <td>1.0</td>\n",
              "      <td>1.0</td>\n",
              "      <td>1.0</td>\n",
              "      <td>0.5</td>\n",
              "      <td>1.0</td>\n",
              "      <td>1.0</td>\n",
              "      <td>2.0</td>\n",
              "      <td>1.00</td>\n",
              "      <td>...</td>\n",
              "      <td>0.0</td>\n",
              "      <td>0.0</td>\n",
              "      <td>0.0</td>\n",
              "      <td>0.0</td>\n",
              "      <td>0.0</td>\n",
              "      <td>0.0</td>\n",
              "      <td>1.0</td>\n",
              "      <td>0.0</td>\n",
              "      <td>0.0</td>\n",
              "      <td>0.0</td>\n",
              "    </tr>\n",
              "    <tr>\n",
              "      <th>723</th>\n",
              "      <td>1.0</td>\n",
              "      <td>2.0</td>\n",
              "      <td>1.0</td>\n",
              "      <td>0.5</td>\n",
              "      <td>1.0</td>\n",
              "      <td>0.0</td>\n",
              "      <td>2.0</td>\n",
              "      <td>2.0</td>\n",
              "      <td>2.0</td>\n",
              "      <td>0.50</td>\n",
              "      <td>...</td>\n",
              "      <td>0.0</td>\n",
              "      <td>1.0</td>\n",
              "      <td>0.0</td>\n",
              "      <td>0.0</td>\n",
              "      <td>0.0</td>\n",
              "      <td>0.0</td>\n",
              "      <td>0.0</td>\n",
              "      <td>0.0</td>\n",
              "      <td>0.0</td>\n",
              "      <td>0.0</td>\n",
              "    </tr>\n",
              "    <tr>\n",
              "      <th>655</th>\n",
              "      <td>1.0</td>\n",
              "      <td>1.0</td>\n",
              "      <td>1.0</td>\n",
              "      <td>2.0</td>\n",
              "      <td>1.0</td>\n",
              "      <td>1.0</td>\n",
              "      <td>0.5</td>\n",
              "      <td>1.0</td>\n",
              "      <td>1.0</td>\n",
              "      <td>2.00</td>\n",
              "      <td>...</td>\n",
              "      <td>0.0</td>\n",
              "      <td>0.0</td>\n",
              "      <td>0.0</td>\n",
              "      <td>0.0</td>\n",
              "      <td>0.0</td>\n",
              "      <td>0.0</td>\n",
              "      <td>0.0</td>\n",
              "      <td>0.0</td>\n",
              "      <td>0.0</td>\n",
              "      <td>1.0</td>\n",
              "    </tr>\n",
              "    <tr>\n",
              "      <th>401</th>\n",
              "      <td>1.0</td>\n",
              "      <td>1.0</td>\n",
              "      <td>1.0</td>\n",
              "      <td>1.0</td>\n",
              "      <td>1.0</td>\n",
              "      <td>0.5</td>\n",
              "      <td>2.0</td>\n",
              "      <td>2.0</td>\n",
              "      <td>1.0</td>\n",
              "      <td>0.50</td>\n",
              "      <td>...</td>\n",
              "      <td>0.0</td>\n",
              "      <td>0.0</td>\n",
              "      <td>0.0</td>\n",
              "      <td>0.0</td>\n",
              "      <td>0.0</td>\n",
              "      <td>0.0</td>\n",
              "      <td>0.0</td>\n",
              "      <td>0.0</td>\n",
              "      <td>0.0</td>\n",
              "      <td>0.0</td>\n",
              "    </tr>\n",
              "    <tr>\n",
              "      <th>690</th>\n",
              "      <td>0.5</td>\n",
              "      <td>1.0</td>\n",
              "      <td>2.0</td>\n",
              "      <td>0.5</td>\n",
              "      <td>1.0</td>\n",
              "      <td>0.5</td>\n",
              "      <td>0.5</td>\n",
              "      <td>1.0</td>\n",
              "      <td>1.0</td>\n",
              "      <td>0.25</td>\n",
              "      <td>...</td>\n",
              "      <td>0.0</td>\n",
              "      <td>0.0</td>\n",
              "      <td>0.0</td>\n",
              "      <td>0.0</td>\n",
              "      <td>0.0</td>\n",
              "      <td>1.0</td>\n",
              "      <td>0.0</td>\n",
              "      <td>0.0</td>\n",
              "      <td>0.0</td>\n",
              "      <td>0.0</td>\n",
              "    </tr>\n",
              "    <tr>\n",
              "      <th>...</th>\n",
              "      <td>...</td>\n",
              "      <td>...</td>\n",
              "      <td>...</td>\n",
              "      <td>...</td>\n",
              "      <td>...</td>\n",
              "      <td>...</td>\n",
              "      <td>...</td>\n",
              "      <td>...</td>\n",
              "      <td>...</td>\n",
              "      <td>...</td>\n",
              "      <td>...</td>\n",
              "      <td>...</td>\n",
              "      <td>...</td>\n",
              "      <td>...</td>\n",
              "      <td>...</td>\n",
              "      <td>...</td>\n",
              "      <td>...</td>\n",
              "      <td>...</td>\n",
              "      <td>...</td>\n",
              "      <td>...</td>\n",
              "      <td>...</td>\n",
              "    </tr>\n",
              "    <tr>\n",
              "      <th>500</th>\n",
              "      <td>1.0</td>\n",
              "      <td>1.0</td>\n",
              "      <td>1.0</td>\n",
              "      <td>2.0</td>\n",
              "      <td>1.0</td>\n",
              "      <td>1.0</td>\n",
              "      <td>0.5</td>\n",
              "      <td>1.0</td>\n",
              "      <td>1.0</td>\n",
              "      <td>2.00</td>\n",
              "      <td>...</td>\n",
              "      <td>0.0</td>\n",
              "      <td>0.0</td>\n",
              "      <td>0.0</td>\n",
              "      <td>0.0</td>\n",
              "      <td>0.0</td>\n",
              "      <td>0.0</td>\n",
              "      <td>0.0</td>\n",
              "      <td>0.0</td>\n",
              "      <td>0.0</td>\n",
              "      <td>1.0</td>\n",
              "    </tr>\n",
              "    <tr>\n",
              "      <th>764</th>\n",
              "      <td>2.0</td>\n",
              "      <td>2.0</td>\n",
              "      <td>1.0</td>\n",
              "      <td>1.0</td>\n",
              "      <td>1.0</td>\n",
              "      <td>1.0</td>\n",
              "      <td>1.0</td>\n",
              "      <td>1.0</td>\n",
              "      <td>0.0</td>\n",
              "      <td>1.00</td>\n",
              "      <td>...</td>\n",
              "      <td>0.0</td>\n",
              "      <td>0.0</td>\n",
              "      <td>0.0</td>\n",
              "      <td>0.0</td>\n",
              "      <td>1.0</td>\n",
              "      <td>0.0</td>\n",
              "      <td>0.0</td>\n",
              "      <td>0.0</td>\n",
              "      <td>0.0</td>\n",
              "      <td>0.0</td>\n",
              "    </tr>\n",
              "    <tr>\n",
              "      <th>449</th>\n",
              "      <td>1.0</td>\n",
              "      <td>1.0</td>\n",
              "      <td>1.0</td>\n",
              "      <td>0.0</td>\n",
              "      <td>1.0</td>\n",
              "      <td>1.0</td>\n",
              "      <td>1.0</td>\n",
              "      <td>1.0</td>\n",
              "      <td>1.0</td>\n",
              "      <td>2.00</td>\n",
              "      <td>...</td>\n",
              "      <td>0.0</td>\n",
              "      <td>0.0</td>\n",
              "      <td>1.0</td>\n",
              "      <td>0.0</td>\n",
              "      <td>0.0</td>\n",
              "      <td>0.0</td>\n",
              "      <td>0.0</td>\n",
              "      <td>0.0</td>\n",
              "      <td>0.0</td>\n",
              "      <td>0.0</td>\n",
              "    </tr>\n",
              "    <tr>\n",
              "      <th>58</th>\n",
              "      <td>0.5</td>\n",
              "      <td>1.0</td>\n",
              "      <td>1.0</td>\n",
              "      <td>1.0</td>\n",
              "      <td>0.5</td>\n",
              "      <td>1.0</td>\n",
              "      <td>0.5</td>\n",
              "      <td>1.0</td>\n",
              "      <td>1.0</td>\n",
              "      <td>0.50</td>\n",
              "      <td>...</td>\n",
              "      <td>0.0</td>\n",
              "      <td>0.0</td>\n",
              "      <td>0.0</td>\n",
              "      <td>0.0</td>\n",
              "      <td>0.0</td>\n",
              "      <td>0.0</td>\n",
              "      <td>0.0</td>\n",
              "      <td>0.0</td>\n",
              "      <td>0.0</td>\n",
              "      <td>0.0</td>\n",
              "    </tr>\n",
              "    <tr>\n",
              "      <th>219</th>\n",
              "      <td>1.0</td>\n",
              "      <td>1.0</td>\n",
              "      <td>1.0</td>\n",
              "      <td>0.0</td>\n",
              "      <td>1.0</td>\n",
              "      <td>2.0</td>\n",
              "      <td>2.0</td>\n",
              "      <td>1.0</td>\n",
              "      <td>1.0</td>\n",
              "      <td>2.00</td>\n",
              "      <td>...</td>\n",
              "      <td>0.0</td>\n",
              "      <td>0.0</td>\n",
              "      <td>0.0</td>\n",
              "      <td>1.0</td>\n",
              "      <td>0.0</td>\n",
              "      <td>0.0</td>\n",
              "      <td>0.0</td>\n",
              "      <td>0.0</td>\n",
              "      <td>0.0</td>\n",
              "      <td>0.0</td>\n",
              "    </tr>\n",
              "  </tbody>\n",
              "</table>\n",
              "<p>161 rows × 49 columns</p>\n",
              "</div>"
            ],
            "text/plain": [
              "     against_bug  against_dark  against_dragon  against_electric  \\\n",
              "574          2.0           2.0             1.0               1.0   \n",
              "723          1.0           2.0             1.0               0.5   \n",
              "655          1.0           1.0             1.0               2.0   \n",
              "401          1.0           1.0             1.0               1.0   \n",
              "690          0.5           1.0             2.0               0.5   \n",
              "..           ...           ...             ...               ...   \n",
              "500          1.0           1.0             1.0               2.0   \n",
              "764          2.0           2.0             1.0               1.0   \n",
              "449          1.0           1.0             1.0               0.0   \n",
              "58           0.5           1.0             1.0               1.0   \n",
              "219          1.0           1.0             1.0               0.0   \n",
              "\n",
              "     against_fairy  against_fight  against_fire  against_flying  \\\n",
              "574            1.0            0.5           1.0             1.0   \n",
              "723            1.0            0.0           2.0             2.0   \n",
              "655            1.0            1.0           0.5             1.0   \n",
              "401            1.0            0.5           2.0             2.0   \n",
              "690            1.0            0.5           0.5             1.0   \n",
              "..             ...            ...           ...             ...   \n",
              "500            1.0            1.0           0.5             1.0   \n",
              "764            1.0            1.0           1.0             1.0   \n",
              "449            1.0            1.0           1.0             1.0   \n",
              "58             0.5            1.0           0.5             1.0   \n",
              "219            1.0            2.0           2.0             1.0   \n",
              "\n",
              "     against_ghost  against_grass  ...  type1_ghost  type1_grass  \\\n",
              "574            2.0           1.00  ...          0.0          0.0   \n",
              "723            2.0           0.50  ...          0.0          1.0   \n",
              "655            1.0           2.00  ...          0.0          0.0   \n",
              "401            1.0           0.50  ...          0.0          0.0   \n",
              "690            1.0           0.25  ...          0.0          0.0   \n",
              "..             ...            ...  ...          ...          ...   \n",
              "500            1.0           2.00  ...          0.0          0.0   \n",
              "764            0.0           1.00  ...          0.0          0.0   \n",
              "449            1.0           2.00  ...          0.0          0.0   \n",
              "58             1.0           0.50  ...          0.0          0.0   \n",
              "219            1.0           2.00  ...          0.0          0.0   \n",
              "\n",
              "     type1_ground  type1_ice  type1_normal  type1_poison  type1_psychic  \\\n",
              "574           0.0        0.0           0.0           0.0            1.0   \n",
              "723           0.0        0.0           0.0           0.0            0.0   \n",
              "655           0.0        0.0           0.0           0.0            0.0   \n",
              "401           0.0        0.0           0.0           0.0            0.0   \n",
              "690           0.0        0.0           0.0           1.0            0.0   \n",
              "..            ...        ...           ...           ...            ...   \n",
              "500           0.0        0.0           0.0           0.0            0.0   \n",
              "764           0.0        0.0           1.0           0.0            0.0   \n",
              "449           1.0        0.0           0.0           0.0            0.0   \n",
              "58            0.0        0.0           0.0           0.0            0.0   \n",
              "219           0.0        1.0           0.0           0.0            0.0   \n",
              "\n",
              "     type1_rock  type1_steel  type1_water  \n",
              "574         0.0          0.0          0.0  \n",
              "723         0.0          0.0          0.0  \n",
              "655         0.0          0.0          1.0  \n",
              "401         0.0          0.0          0.0  \n",
              "690         0.0          0.0          0.0  \n",
              "..          ...          ...          ...  \n",
              "500         0.0          0.0          1.0  \n",
              "764         0.0          0.0          0.0  \n",
              "449         0.0          0.0          0.0  \n",
              "58          0.0          0.0          0.0  \n",
              "219         0.0          0.0          0.0  \n",
              "\n",
              "[161 rows x 49 columns]"
            ]
          },
          "execution_count": 26,
          "metadata": {},
          "output_type": "execute_result"
        }
      ],
      "source": [
        "# also check for X_test\n",
        "X_test"
      ]
    },
    {
      "cell_type": "markdown",
      "metadata": {
        "jp-MarkdownHeadingCollapsed": true,
        "tags": [],
        "id": "ySt3sbWukly-"
      },
      "source": [
        "#### Scale the data"
      ]
    },
    {
      "cell_type": "code",
      "execution_count": null,
      "metadata": {
        "jupyter": {
          "outputs_hidden": false
        },
        "id": "fc6IinYVkly-",
        "outputId": "2f452576-7c22-41dc-f262-cd56d0a8e71e"
      },
      "outputs": [
        {
          "data": {
            "text/html": [
              "<div>\n",
              "<style scoped>\n",
              "    .dataframe tbody tr th:only-of-type {\n",
              "        vertical-align: middle;\n",
              "    }\n",
              "\n",
              "    .dataframe tbody tr th {\n",
              "        vertical-align: top;\n",
              "    }\n",
              "\n",
              "    .dataframe thead th {\n",
              "        text-align: right;\n",
              "    }\n",
              "</style>\n",
              "<table border=\"1\" class=\"dataframe\">\n",
              "  <thead>\n",
              "    <tr style=\"text-align: right;\">\n",
              "      <th></th>\n",
              "      <th>against_bug</th>\n",
              "      <th>against_dark</th>\n",
              "      <th>against_dragon</th>\n",
              "      <th>against_electric</th>\n",
              "      <th>against_fairy</th>\n",
              "      <th>against_fight</th>\n",
              "      <th>against_fire</th>\n",
              "      <th>against_flying</th>\n",
              "      <th>against_ghost</th>\n",
              "      <th>against_grass</th>\n",
              "      <th>...</th>\n",
              "      <th>type1_ghost</th>\n",
              "      <th>type1_grass</th>\n",
              "      <th>type1_ground</th>\n",
              "      <th>type1_ice</th>\n",
              "      <th>type1_normal</th>\n",
              "      <th>type1_poison</th>\n",
              "      <th>type1_psychic</th>\n",
              "      <th>type1_rock</th>\n",
              "      <th>type1_steel</th>\n",
              "      <th>type1_water</th>\n",
              "    </tr>\n",
              "  </thead>\n",
              "  <tbody>\n",
              "    <tr>\n",
              "      <th>0</th>\n",
              "      <td>0.2</td>\n",
              "      <td>0.200000</td>\n",
              "      <td>0.5</td>\n",
              "      <td>0.500</td>\n",
              "      <td>0.200000</td>\n",
              "      <td>0.500</td>\n",
              "      <td>0.000000</td>\n",
              "      <td>0.066667</td>\n",
              "      <td>0.25</td>\n",
              "      <td>1.000000</td>\n",
              "      <td>...</td>\n",
              "      <td>0.0</td>\n",
              "      <td>0.0</td>\n",
              "      <td>0.0</td>\n",
              "      <td>0.0</td>\n",
              "      <td>0.0</td>\n",
              "      <td>0.0</td>\n",
              "      <td>0.0</td>\n",
              "      <td>0.0</td>\n",
              "      <td>0.0</td>\n",
              "      <td>1.0</td>\n",
              "    </tr>\n",
              "    <tr>\n",
              "      <th>1</th>\n",
              "      <td>0.2</td>\n",
              "      <td>0.466667</td>\n",
              "      <td>0.5</td>\n",
              "      <td>0.250</td>\n",
              "      <td>0.066667</td>\n",
              "      <td>0.125</td>\n",
              "      <td>0.066667</td>\n",
              "      <td>0.200000</td>\n",
              "      <td>0.50</td>\n",
              "      <td>0.066667</td>\n",
              "      <td>...</td>\n",
              "      <td>0.0</td>\n",
              "      <td>0.0</td>\n",
              "      <td>0.0</td>\n",
              "      <td>0.0</td>\n",
              "      <td>0.0</td>\n",
              "      <td>0.0</td>\n",
              "      <td>1.0</td>\n",
              "      <td>0.0</td>\n",
              "      <td>0.0</td>\n",
              "      <td>0.0</td>\n",
              "    </tr>\n",
              "    <tr>\n",
              "      <th>2</th>\n",
              "      <td>0.2</td>\n",
              "      <td>0.200000</td>\n",
              "      <td>0.5</td>\n",
              "      <td>0.125</td>\n",
              "      <td>0.066667</td>\n",
              "      <td>0.125</td>\n",
              "      <td>0.466667</td>\n",
              "      <td>0.466667</td>\n",
              "      <td>0.25</td>\n",
              "      <td>0.000000</td>\n",
              "      <td>...</td>\n",
              "      <td>0.0</td>\n",
              "      <td>1.0</td>\n",
              "      <td>0.0</td>\n",
              "      <td>0.0</td>\n",
              "      <td>0.0</td>\n",
              "      <td>0.0</td>\n",
              "      <td>0.0</td>\n",
              "      <td>0.0</td>\n",
              "      <td>0.0</td>\n",
              "      <td>0.0</td>\n",
              "    </tr>\n",
              "    <tr>\n",
              "      <th>3</th>\n",
              "      <td>0.2</td>\n",
              "      <td>0.200000</td>\n",
              "      <td>0.5</td>\n",
              "      <td>0.250</td>\n",
              "      <td>0.200000</td>\n",
              "      <td>0.500</td>\n",
              "      <td>0.200000</td>\n",
              "      <td>0.200000</td>\n",
              "      <td>0.00</td>\n",
              "      <td>0.200000</td>\n",
              "      <td>...</td>\n",
              "      <td>0.0</td>\n",
              "      <td>0.0</td>\n",
              "      <td>0.0</td>\n",
              "      <td>0.0</td>\n",
              "      <td>1.0</td>\n",
              "      <td>0.0</td>\n",
              "      <td>0.0</td>\n",
              "      <td>0.0</td>\n",
              "      <td>0.0</td>\n",
              "      <td>0.0</td>\n",
              "    </tr>\n",
              "    <tr>\n",
              "      <th>4</th>\n",
              "      <td>0.2</td>\n",
              "      <td>0.200000</td>\n",
              "      <td>0.5</td>\n",
              "      <td>0.000</td>\n",
              "      <td>0.200000</td>\n",
              "      <td>0.250</td>\n",
              "      <td>0.200000</td>\n",
              "      <td>0.200000</td>\n",
              "      <td>0.25</td>\n",
              "      <td>0.466667</td>\n",
              "      <td>...</td>\n",
              "      <td>0.0</td>\n",
              "      <td>0.0</td>\n",
              "      <td>1.0</td>\n",
              "      <td>0.0</td>\n",
              "      <td>0.0</td>\n",
              "      <td>0.0</td>\n",
              "      <td>0.0</td>\n",
              "      <td>0.0</td>\n",
              "      <td>0.0</td>\n",
              "      <td>0.0</td>\n",
              "    </tr>\n",
              "    <tr>\n",
              "      <th>...</th>\n",
              "      <td>...</td>\n",
              "      <td>...</td>\n",
              "      <td>...</td>\n",
              "      <td>...</td>\n",
              "      <td>...</td>\n",
              "      <td>...</td>\n",
              "      <td>...</td>\n",
              "      <td>...</td>\n",
              "      <td>...</td>\n",
              "      <td>...</td>\n",
              "      <td>...</td>\n",
              "      <td>...</td>\n",
              "      <td>...</td>\n",
              "      <td>...</td>\n",
              "      <td>...</td>\n",
              "      <td>...</td>\n",
              "      <td>...</td>\n",
              "      <td>...</td>\n",
              "      <td>...</td>\n",
              "      <td>...</td>\n",
              "      <td>...</td>\n",
              "    </tr>\n",
              "    <tr>\n",
              "      <th>635</th>\n",
              "      <td>0.2</td>\n",
              "      <td>0.200000</td>\n",
              "      <td>0.5</td>\n",
              "      <td>0.250</td>\n",
              "      <td>0.200000</td>\n",
              "      <td>0.500</td>\n",
              "      <td>0.066667</td>\n",
              "      <td>0.066667</td>\n",
              "      <td>0.25</td>\n",
              "      <td>0.466667</td>\n",
              "      <td>...</td>\n",
              "      <td>0.0</td>\n",
              "      <td>0.0</td>\n",
              "      <td>0.0</td>\n",
              "      <td>0.0</td>\n",
              "      <td>0.0</td>\n",
              "      <td>0.0</td>\n",
              "      <td>0.0</td>\n",
              "      <td>1.0</td>\n",
              "      <td>0.0</td>\n",
              "      <td>0.0</td>\n",
              "    </tr>\n",
              "    <tr>\n",
              "      <th>636</th>\n",
              "      <td>0.2</td>\n",
              "      <td>0.200000</td>\n",
              "      <td>0.5</td>\n",
              "      <td>0.500</td>\n",
              "      <td>0.200000</td>\n",
              "      <td>0.250</td>\n",
              "      <td>0.066667</td>\n",
              "      <td>0.200000</td>\n",
              "      <td>0.25</td>\n",
              "      <td>0.466667</td>\n",
              "      <td>...</td>\n",
              "      <td>0.0</td>\n",
              "      <td>0.0</td>\n",
              "      <td>0.0</td>\n",
              "      <td>0.0</td>\n",
              "      <td>0.0</td>\n",
              "      <td>0.0</td>\n",
              "      <td>0.0</td>\n",
              "      <td>0.0</td>\n",
              "      <td>0.0</td>\n",
              "      <td>1.0</td>\n",
              "    </tr>\n",
              "    <tr>\n",
              "      <th>637</th>\n",
              "      <td>0.2</td>\n",
              "      <td>0.200000</td>\n",
              "      <td>0.5</td>\n",
              "      <td>0.125</td>\n",
              "      <td>0.066667</td>\n",
              "      <td>0.125</td>\n",
              "      <td>0.466667</td>\n",
              "      <td>0.466667</td>\n",
              "      <td>0.25</td>\n",
              "      <td>0.000000</td>\n",
              "      <td>...</td>\n",
              "      <td>0.0</td>\n",
              "      <td>1.0</td>\n",
              "      <td>0.0</td>\n",
              "      <td>0.0</td>\n",
              "      <td>0.0</td>\n",
              "      <td>0.0</td>\n",
              "      <td>0.0</td>\n",
              "      <td>0.0</td>\n",
              "      <td>0.0</td>\n",
              "      <td>0.0</td>\n",
              "    </tr>\n",
              "    <tr>\n",
              "      <th>638</th>\n",
              "      <td>0.2</td>\n",
              "      <td>0.200000</td>\n",
              "      <td>0.5</td>\n",
              "      <td>0.000</td>\n",
              "      <td>0.200000</td>\n",
              "      <td>0.125</td>\n",
              "      <td>0.466667</td>\n",
              "      <td>0.466667</td>\n",
              "      <td>0.25</td>\n",
              "      <td>0.200000</td>\n",
              "      <td>...</td>\n",
              "      <td>0.0</td>\n",
              "      <td>0.0</td>\n",
              "      <td>0.0</td>\n",
              "      <td>0.0</td>\n",
              "      <td>0.0</td>\n",
              "      <td>0.0</td>\n",
              "      <td>0.0</td>\n",
              "      <td>0.0</td>\n",
              "      <td>0.0</td>\n",
              "      <td>0.0</td>\n",
              "    </tr>\n",
              "    <tr>\n",
              "      <th>639</th>\n",
              "      <td>0.2</td>\n",
              "      <td>0.200000</td>\n",
              "      <td>0.5</td>\n",
              "      <td>0.125</td>\n",
              "      <td>0.200000</td>\n",
              "      <td>0.500</td>\n",
              "      <td>0.200000</td>\n",
              "      <td>0.066667</td>\n",
              "      <td>0.00</td>\n",
              "      <td>0.200000</td>\n",
              "      <td>...</td>\n",
              "      <td>0.0</td>\n",
              "      <td>0.0</td>\n",
              "      <td>0.0</td>\n",
              "      <td>0.0</td>\n",
              "      <td>0.0</td>\n",
              "      <td>0.0</td>\n",
              "      <td>0.0</td>\n",
              "      <td>0.0</td>\n",
              "      <td>0.0</td>\n",
              "      <td>0.0</td>\n",
              "    </tr>\n",
              "  </tbody>\n",
              "</table>\n",
              "<p>640 rows × 49 columns</p>\n",
              "</div>"
            ],
            "text/plain": [
              "     against_bug  against_dark  against_dragon  against_electric  \\\n",
              "0            0.2      0.200000             0.5             0.500   \n",
              "1            0.2      0.466667             0.5             0.250   \n",
              "2            0.2      0.200000             0.5             0.125   \n",
              "3            0.2      0.200000             0.5             0.250   \n",
              "4            0.2      0.200000             0.5             0.000   \n",
              "..           ...           ...             ...               ...   \n",
              "635          0.2      0.200000             0.5             0.250   \n",
              "636          0.2      0.200000             0.5             0.500   \n",
              "637          0.2      0.200000             0.5             0.125   \n",
              "638          0.2      0.200000             0.5             0.000   \n",
              "639          0.2      0.200000             0.5             0.125   \n",
              "\n",
              "     against_fairy  against_fight  against_fire  against_flying  \\\n",
              "0         0.200000          0.500      0.000000        0.066667   \n",
              "1         0.066667          0.125      0.066667        0.200000   \n",
              "2         0.066667          0.125      0.466667        0.466667   \n",
              "3         0.200000          0.500      0.200000        0.200000   \n",
              "4         0.200000          0.250      0.200000        0.200000   \n",
              "..             ...            ...           ...             ...   \n",
              "635       0.200000          0.500      0.066667        0.066667   \n",
              "636       0.200000          0.250      0.066667        0.200000   \n",
              "637       0.066667          0.125      0.466667        0.466667   \n",
              "638       0.200000          0.125      0.466667        0.466667   \n",
              "639       0.200000          0.500      0.200000        0.066667   \n",
              "\n",
              "     against_ghost  against_grass  ...  type1_ghost  type1_grass  \\\n",
              "0             0.25       1.000000  ...          0.0          0.0   \n",
              "1             0.50       0.066667  ...          0.0          0.0   \n",
              "2             0.25       0.000000  ...          0.0          1.0   \n",
              "3             0.00       0.200000  ...          0.0          0.0   \n",
              "4             0.25       0.466667  ...          0.0          0.0   \n",
              "..             ...            ...  ...          ...          ...   \n",
              "635           0.25       0.466667  ...          0.0          0.0   \n",
              "636           0.25       0.466667  ...          0.0          0.0   \n",
              "637           0.25       0.000000  ...          0.0          1.0   \n",
              "638           0.25       0.200000  ...          0.0          0.0   \n",
              "639           0.00       0.200000  ...          0.0          0.0   \n",
              "\n",
              "     type1_ground  type1_ice  type1_normal  type1_poison  type1_psychic  \\\n",
              "0             0.0        0.0           0.0           0.0            0.0   \n",
              "1             0.0        0.0           0.0           0.0            1.0   \n",
              "2             0.0        0.0           0.0           0.0            0.0   \n",
              "3             0.0        0.0           1.0           0.0            0.0   \n",
              "4             1.0        0.0           0.0           0.0            0.0   \n",
              "..            ...        ...           ...           ...            ...   \n",
              "635           0.0        0.0           0.0           0.0            0.0   \n",
              "636           0.0        0.0           0.0           0.0            0.0   \n",
              "637           0.0        0.0           0.0           0.0            0.0   \n",
              "638           0.0        0.0           0.0           0.0            0.0   \n",
              "639           0.0        0.0           0.0           0.0            0.0   \n",
              "\n",
              "     type1_rock  type1_steel  type1_water  \n",
              "0           0.0          0.0          1.0  \n",
              "1           0.0          0.0          0.0  \n",
              "2           0.0          0.0          0.0  \n",
              "3           0.0          0.0          0.0  \n",
              "4           0.0          0.0          0.0  \n",
              "..          ...          ...          ...  \n",
              "635         1.0          0.0          0.0  \n",
              "636         0.0          0.0          1.0  \n",
              "637         0.0          0.0          0.0  \n",
              "638         0.0          0.0          0.0  \n",
              "639         0.0          0.0          0.0  \n",
              "\n",
              "[640 rows x 49 columns]"
            ]
          },
          "execution_count": 27,
          "metadata": {},
          "output_type": "execute_result"
        }
      ],
      "source": [
        "from sklearn.preprocessing import StandardScaler, RobustScaler, MinMaxScaler\n",
        "\n",
        "# initialize MinMaxScaler\n",
        "scaler = MinMaxScaler()\n",
        "scaler.fit(X_train)\n",
        "\n",
        "# scale the data\n",
        "X_train = pd.DataFrame(scaler.transform(X_train), columns=X_train.columns)\n",
        "X_test = pd.DataFrame(scaler.transform(X_test), columns=X_test.columns)\n",
        "\n",
        "# check\n",
        "X_train"
      ]
    },
    {
      "cell_type": "markdown",
      "metadata": {
        "jp-MarkdownHeadingCollapsed": true,
        "tags": [],
        "id": "H5OFyWpkkly_"
      },
      "source": [
        "#### Correlation Matrix"
      ]
    },
    {
      "cell_type": "markdown",
      "metadata": {
        "id": "ecGrKu3fkly_"
      },
      "source": [
        "Ssome features are highly correlated, we can drop them, and do not loose the data"
      ]
    },
    {
      "cell_type": "code",
      "execution_count": null,
      "metadata": {
        "jupyter": {
          "outputs_hidden": false
        },
        "id": "zWhs1MWSkly_",
        "outputId": "e5939cbb-1cef-419c-b89d-4737a992c417"
      },
      "outputs": [
        {
          "data": {
            "text/plain": [
              "<AxesSubplot:>"
            ]
          },
          "execution_count": 28,
          "metadata": {},
          "output_type": "execute_result"
        },
        {
          "data": {
            "text/plain": [
              "<Figure size 2160x2160 with 0 Axes>"
            ]
          },
          "metadata": {},
          "output_type": "display_data"
        },
        {
          "data": {
            "image/png": "[encoded data removed]",
            "text/plain": [
              "<Figure size 792x648 with 2 Axes>"
            ]
          },
          "metadata": {
            "needs_background": "light"
          },
          "output_type": "display_data"
        }
      ],
      "source": [
        "import seaborn as sns\n",
        "import matplotlib.pyplot as plt\n",
        "\n",
        "# plot the correlation matrix\n",
        "plt.figure(figsize=(30, 30))\n",
        "\n",
        "corr = np.corrcoef(X_train.transpose())\n",
        "mask = np.triu(np.ones_like(corr, dtype=bool))\n",
        "f, ax = plt.subplots(figsize=(11, 9))\n",
        "cmap = sns.diverging_palette(230, 20, as_cmap=True)\n",
        "sns.heatmap(corr, mask=mask, cmap=cmap, center=0, square=True, linewidths=.5, cbar_kws={\"shrink\": .5})"
      ]
    },
    {
      "cell_type": "code",
      "execution_count": null,
      "metadata": {
        "id": "gsYETX2Lkly_",
        "outputId": "99fdee8f-36f2-4cc6-ae3b-974bffa00221"
      },
      "outputs": [
        {
          "name": "stdout",
          "output_type": "stream",
          "text": [
            "against_ghost\n",
            "base_total\n"
          ]
        }
      ],
      "source": [
        "# we can drop one feature with the index 8 and 21, because it is highly correlated with some other features\n",
        "# we would not loose important data, because we can find this information in the correlated features\n",
        "\n",
        "print(X_train.columns[8])\n",
        "print(X_train.columns[21])"
      ]
    },
    {
      "cell_type": "code",
      "execution_count": null,
      "metadata": {
        "id": "0vrxi_ZsklzA"
      },
      "outputs": [],
      "source": [
        "# drop higly correlated features\n",
        "X_train = X_train.drop(['against_ghost', 'base_total'], axis=1)\n",
        "X_test = X_test.drop(['against_ghost', 'base_total'], axis=1)"
      ]
    },
    {
      "cell_type": "markdown",
      "metadata": {
        "id": "GM81rn-MklzA"
      },
      "source": [
        "### Model fitting and Comparison"
      ]
    },
    {
      "cell_type": "markdown",
      "metadata": {
        "jp-MarkdownHeadingCollapsed": true,
        "tags": [],
        "id": "Z-aOlQYqklzA"
      },
      "source": [
        "#### Tuning LR model"
      ]
    },
    {
      "cell_type": "code",
      "execution_count": null,
      "metadata": {
        "jupyter": {
          "outputs_hidden": false
        },
        "id": "GpLcLnMwklzA"
      },
      "outputs": [],
      "source": [
        "# caclulate and print metrics\n",
        "def print_clf_metrics( y_actual, y_pred ):\n",
        "    print(f'Testing accuracy = {metrics.accuracy_score(y_test, y_pred)}')\n",
        "    print(f'Testing precision = {metrics.precision_score(y_test, y_pred)}')\n",
        "    print(f'Testing recall = {metrics.recall_score(y_test, y_pred)}')\n",
        "    print(f'Testing F1-score = {metrics.f1_score(y_test, y_pred)}')"
      ]
    },
    {
      "cell_type": "code",
      "execution_count": null,
      "metadata": {
        "jupyter": {
          "outputs_hidden": false
        },
        "id": "JNloCcjzklzB"
      },
      "outputs": [],
      "source": [
        "# set parameters for Grid Search\n",
        "parameters = {'penalty':['l1', 'l2'], 'C': np.logspace(-3, 3, 7), 'solver': ['newton-cg', 'lbfgs', 'liblinear']}"
      ]
    },
    {
      "cell_type": "markdown",
      "metadata": {
        "id": "i7pkLXgyklzB"
      },
      "source": [
        "max_iter=1000 in LR constructor"
      ]
    },
    {
      "cell_type": "code",
      "execution_count": null,
      "metadata": {
        "jupyter": {
          "outputs_hidden": false
        },
        "id": "UZ_EFHd5klzB"
      },
      "outputs": [],
      "source": [
        "from sklearn.linear_model import LogisticRegression\n",
        "from sklearn import metrics\n",
        "from sklearn.model_selection import GridSearchCV\n",
        "\n",
        "# create Grid Search on Logistic Regression\n",
        "gs_clf = GridSearchCV(LogisticRegression(max_iter=1000), parameters, cv=5, n_jobs=-1, error_score=0)"
      ]
    },
    {
      "cell_type": "code",
      "execution_count": null,
      "metadata": {
        "jupyter": {
          "outputs_hidden": false
        },
        "id": "8QMAGVYbklzB",
        "outputId": "5969d28b-3ad2-4d38-96aa-0b8ccf70c16e"
      },
      "outputs": [
        {
          "ename": "ValueError",
          "evalue": "Invalid parameter 'polynomial_features' for estimator LogisticRegression(max_iter=1000). Valid parameters are: ['C', 'class_weight', 'dual', 'fit_intercept', 'intercept_scaling', 'l1_ratio', 'max_iter', 'multi_class', 'n_jobs', 'penalty', 'random_state', 'solver', 'tol', 'verbose', 'warm_start'].",
          "output_type": "error",
          "traceback": [
            "\u001b[1;31m---------------------------------------------------------------------------\u001b[0m",
            "\u001b[1;31m_RemoteTraceback\u001b[0m                          Traceback (most recent call last)",
            "\u001b[1;31m_RemoteTraceback\u001b[0m: \n\"\"\"\nTraceback (most recent call last):\n  File \"D:\\ML\\Python310\\lib\\site-packages\\joblib\\externals\\loky\\process_executor.py\", line 428, in _process_worker\n    r = call_item()\n  File \"D:\\ML\\Python310\\lib\\site-packages\\joblib\\externals\\loky\\process_executor.py\", line 275, in __call__\n    return self.fn(*self.args, **self.kwargs)\n  File \"D:\\ML\\Python310\\lib\\site-packages\\joblib\\_parallel_backends.py\", line 620, in __call__\n    return self.func(*args, **kwargs)\n  File \"D:\\ML\\Python310\\lib\\site-packages\\joblib\\parallel.py\", line 288, in __call__\n    return [func(*args, **kwargs)\n  File \"D:\\ML\\Python310\\lib\\site-packages\\joblib\\parallel.py\", line 288, in <listcomp>\n    return [func(*args, **kwargs)\n  File \"D:\\ML\\Python310\\lib\\site-packages\\sklearn\\utils\\fixes.py\", line 117, in __call__\n    return self.function(*args, **kwargs)\n  File \"D:\\ML\\Python310\\lib\\site-packages\\sklearn\\model_selection\\_validation.py\", line 674, in _fit_and_score\n    estimator = estimator.set_params(**cloned_parameters)\n  File \"D:\\ML\\Python310\\lib\\site-packages\\sklearn\\base.py\", line 205, in set_params\n    raise ValueError(\nValueError: Invalid parameter 'polynomial_features' for estimator LogisticRegression(max_iter=1000). Valid parameters are: ['C', 'class_weight', 'dual', 'fit_intercept', 'intercept_scaling', 'l1_ratio', 'max_iter', 'multi_class', 'n_jobs', 'penalty', 'random_state', 'solver', 'tol', 'verbose', 'warm_start'].\n\"\"\"",
            "\nThe above exception was the direct cause of the following exception:\n",
            "\u001b[1;31mValueError\u001b[0m                                Traceback (most recent call last)",
            "Input \u001b[1;32mIn [33]\u001b[0m, in \u001b[0;36m<cell line: 2>\u001b[1;34m()\u001b[0m\n\u001b[0;32m      1\u001b[0m \u001b[38;5;66;03m# find the best hyper-parameter for the model\u001b[39;00m\n\u001b[1;32m----> 2\u001b[0m \u001b[43mgs_clf\u001b[49m\u001b[38;5;241;43m.\u001b[39;49m\u001b[43mfit\u001b[49m\u001b[43m(\u001b[49m\u001b[43mX_train\u001b[49m\u001b[43m,\u001b[49m\u001b[43m \u001b[49m\u001b[43my_train\u001b[49m\u001b[43m)\u001b[49m\n\u001b[0;32m      4\u001b[0m \u001b[38;5;66;03m# predict on X_test\u001b[39;00m\n\u001b[0;32m      5\u001b[0m y_pred_gs \u001b[38;5;241m=\u001b[39m gs_clf\u001b[38;5;241m.\u001b[39mpredict(X_test)\n",
            "File \u001b[1;32mD:\\ML\\Python310\\lib\\site-packages\\sklearn\\model_selection\\_search.py:875\u001b[0m, in \u001b[0;36mBaseSearchCV.fit\u001b[1;34m(self, X, y, groups, **fit_params)\u001b[0m\n\u001b[0;32m    869\u001b[0m     results \u001b[38;5;241m=\u001b[39m \u001b[38;5;28mself\u001b[39m\u001b[38;5;241m.\u001b[39m_format_results(\n\u001b[0;32m    870\u001b[0m         all_candidate_params, n_splits, all_out, all_more_results\n\u001b[0;32m    871\u001b[0m     )\n\u001b[0;32m    873\u001b[0m     \u001b[38;5;28;01mreturn\u001b[39;00m results\n\u001b[1;32m--> 875\u001b[0m \u001b[38;5;28;43mself\u001b[39;49m\u001b[38;5;241;43m.\u001b[39;49m\u001b[43m_run_search\u001b[49m\u001b[43m(\u001b[49m\u001b[43mevaluate_candidates\u001b[49m\u001b[43m)\u001b[49m\n\u001b[0;32m    877\u001b[0m \u001b[38;5;66;03m# multimetric is determined here because in the case of a callable\u001b[39;00m\n\u001b[0;32m    878\u001b[0m \u001b[38;5;66;03m# self.scoring the return type is only known after calling\u001b[39;00m\n\u001b[0;32m    879\u001b[0m first_test_score \u001b[38;5;241m=\u001b[39m all_out[\u001b[38;5;241m0\u001b[39m][\u001b[38;5;124m\"\u001b[39m\u001b[38;5;124mtest_scores\u001b[39m\u001b[38;5;124m\"\u001b[39m]\n",
            "File \u001b[1;32mD:\\ML\\Python310\\lib\\site-packages\\sklearn\\model_selection\\_search.py:1389\u001b[0m, in \u001b[0;36mGridSearchCV._run_search\u001b[1;34m(self, evaluate_candidates)\u001b[0m\n\u001b[0;32m   1387\u001b[0m \u001b[38;5;28;01mdef\u001b[39;00m \u001b[38;5;21m_run_search\u001b[39m(\u001b[38;5;28mself\u001b[39m, evaluate_candidates):\n\u001b[0;32m   1388\u001b[0m     \u001b[38;5;124;03m\"\"\"Search all candidates in param_grid\"\"\"\u001b[39;00m\n\u001b[1;32m-> 1389\u001b[0m     \u001b[43mevaluate_candidates\u001b[49m\u001b[43m(\u001b[49m\u001b[43mParameterGrid\u001b[49m\u001b[43m(\u001b[49m\u001b[38;5;28;43mself\u001b[39;49m\u001b[38;5;241;43m.\u001b[39;49m\u001b[43mparam_grid\u001b[49m\u001b[43m)\u001b[49m\u001b[43m)\u001b[49m\n",
            "File \u001b[1;32mD:\\ML\\Python310\\lib\\site-packages\\sklearn\\model_selection\\_search.py:822\u001b[0m, in \u001b[0;36mBaseSearchCV.fit.<locals>.evaluate_candidates\u001b[1;34m(candidate_params, cv, more_results)\u001b[0m\n\u001b[0;32m    814\u001b[0m \u001b[38;5;28;01mif\u001b[39;00m \u001b[38;5;28mself\u001b[39m\u001b[38;5;241m.\u001b[39mverbose \u001b[38;5;241m>\u001b[39m \u001b[38;5;241m0\u001b[39m:\n\u001b[0;32m    815\u001b[0m     \u001b[38;5;28mprint\u001b[39m(\n\u001b[0;32m    816\u001b[0m         \u001b[38;5;124m\"\u001b[39m\u001b[38;5;124mFitting \u001b[39m\u001b[38;5;132;01m{0}\u001b[39;00m\u001b[38;5;124m folds for each of \u001b[39m\u001b[38;5;132;01m{1}\u001b[39;00m\u001b[38;5;124m candidates,\u001b[39m\u001b[38;5;124m\"\u001b[39m\n\u001b[0;32m    817\u001b[0m         \u001b[38;5;124m\"\u001b[39m\u001b[38;5;124m totalling \u001b[39m\u001b[38;5;132;01m{2}\u001b[39;00m\u001b[38;5;124m fits\u001b[39m\u001b[38;5;124m\"\u001b[39m\u001b[38;5;241m.\u001b[39mformat(\n\u001b[0;32m    818\u001b[0m             n_splits, n_candidates, n_candidates \u001b[38;5;241m*\u001b[39m n_splits\n\u001b[0;32m    819\u001b[0m         )\n\u001b[0;32m    820\u001b[0m     )\n\u001b[1;32m--> 822\u001b[0m out \u001b[38;5;241m=\u001b[39m \u001b[43mparallel\u001b[49m\u001b[43m(\u001b[49m\n\u001b[0;32m    823\u001b[0m \u001b[43m    \u001b[49m\u001b[43mdelayed\u001b[49m\u001b[43m(\u001b[49m\u001b[43m_fit_and_score\u001b[49m\u001b[43m)\u001b[49m\u001b[43m(\u001b[49m\n\u001b[0;32m    824\u001b[0m \u001b[43m        \u001b[49m\u001b[43mclone\u001b[49m\u001b[43m(\u001b[49m\u001b[43mbase_estimator\u001b[49m\u001b[43m)\u001b[49m\u001b[43m,\u001b[49m\n\u001b[0;32m    825\u001b[0m \u001b[43m        \u001b[49m\u001b[43mX\u001b[49m\u001b[43m,\u001b[49m\n\u001b[0;32m    826\u001b[0m \u001b[43m        \u001b[49m\u001b[43my\u001b[49m\u001b[43m,\u001b[49m\n\u001b[0;32m    827\u001b[0m \u001b[43m        \u001b[49m\u001b[43mtrain\u001b[49m\u001b[38;5;241;43m=\u001b[39;49m\u001b[43mtrain\u001b[49m\u001b[43m,\u001b[49m\n\u001b[0;32m    828\u001b[0m \u001b[43m        \u001b[49m\u001b[43mtest\u001b[49m\u001b[38;5;241;43m=\u001b[39;49m\u001b[43mtest\u001b[49m\u001b[43m,\u001b[49m\n\u001b[0;32m    829\u001b[0m \u001b[43m        \u001b[49m\u001b[43mparameters\u001b[49m\u001b[38;5;241;43m=\u001b[39;49m\u001b[43mparameters\u001b[49m\u001b[43m,\u001b[49m\n\u001b[0;32m    830\u001b[0m \u001b[43m        \u001b[49m\u001b[43msplit_progress\u001b[49m\u001b[38;5;241;43m=\u001b[39;49m\u001b[43m(\u001b[49m\u001b[43msplit_idx\u001b[49m\u001b[43m,\u001b[49m\u001b[43m \u001b[49m\u001b[43mn_splits\u001b[49m\u001b[43m)\u001b[49m\u001b[43m,\u001b[49m\n\u001b[0;32m    831\u001b[0m \u001b[43m        \u001b[49m\u001b[43mcandidate_progress\u001b[49m\u001b[38;5;241;43m=\u001b[39;49m\u001b[43m(\u001b[49m\u001b[43mcand_idx\u001b[49m\u001b[43m,\u001b[49m\u001b[43m \u001b[49m\u001b[43mn_candidates\u001b[49m\u001b[43m)\u001b[49m\u001b[43m,\u001b[49m\n\u001b[0;32m    832\u001b[0m \u001b[43m        \u001b[49m\u001b[38;5;241;43m*\u001b[39;49m\u001b[38;5;241;43m*\u001b[39;49m\u001b[43mfit_and_score_kwargs\u001b[49m\u001b[43m,\u001b[49m\n\u001b[0;32m    833\u001b[0m \u001b[43m    \u001b[49m\u001b[43m)\u001b[49m\n\u001b[0;32m    834\u001b[0m \u001b[43m    \u001b[49m\u001b[38;5;28;43;01mfor\u001b[39;49;00m\u001b[43m \u001b[49m\u001b[43m(\u001b[49m\u001b[43mcand_idx\u001b[49m\u001b[43m,\u001b[49m\u001b[43m \u001b[49m\u001b[43mparameters\u001b[49m\u001b[43m)\u001b[49m\u001b[43m,\u001b[49m\u001b[43m \u001b[49m\u001b[43m(\u001b[49m\u001b[43msplit_idx\u001b[49m\u001b[43m,\u001b[49m\u001b[43m \u001b[49m\u001b[43m(\u001b[49m\u001b[43mtrain\u001b[49m\u001b[43m,\u001b[49m\u001b[43m \u001b[49m\u001b[43mtest\u001b[49m\u001b[43m)\u001b[49m\u001b[43m)\u001b[49m\u001b[43m \u001b[49m\u001b[38;5;129;43;01min\u001b[39;49;00m\u001b[43m \u001b[49m\u001b[43mproduct\u001b[49m\u001b[43m(\u001b[49m\n\u001b[0;32m    835\u001b[0m \u001b[43m        \u001b[49m\u001b[38;5;28;43menumerate\u001b[39;49m\u001b[43m(\u001b[49m\u001b[43mcandidate_params\u001b[49m\u001b[43m)\u001b[49m\u001b[43m,\u001b[49m\u001b[43m \u001b[49m\u001b[38;5;28;43menumerate\u001b[39;49m\u001b[43m(\u001b[49m\u001b[43mcv\u001b[49m\u001b[38;5;241;43m.\u001b[39;49m\u001b[43msplit\u001b[49m\u001b[43m(\u001b[49m\u001b[43mX\u001b[49m\u001b[43m,\u001b[49m\u001b[43m \u001b[49m\u001b[43my\u001b[49m\u001b[43m,\u001b[49m\u001b[43m \u001b[49m\u001b[43mgroups\u001b[49m\u001b[43m)\u001b[49m\u001b[43m)\u001b[49m\n\u001b[0;32m    836\u001b[0m \u001b[43m    \u001b[49m\u001b[43m)\u001b[49m\n\u001b[0;32m    837\u001b[0m \u001b[43m\u001b[49m\u001b[43m)\u001b[49m\n\u001b[0;32m    839\u001b[0m \u001b[38;5;28;01mif\u001b[39;00m \u001b[38;5;28mlen\u001b[39m(out) \u001b[38;5;241m<\u001b[39m \u001b[38;5;241m1\u001b[39m:\n\u001b[0;32m    840\u001b[0m     \u001b[38;5;28;01mraise\u001b[39;00m \u001b[38;5;167;01mValueError\u001b[39;00m(\n\u001b[0;32m    841\u001b[0m         \u001b[38;5;124m\"\u001b[39m\u001b[38;5;124mNo fits were performed. \u001b[39m\u001b[38;5;124m\"\u001b[39m\n\u001b[0;32m    842\u001b[0m         \u001b[38;5;124m\"\u001b[39m\u001b[38;5;124mWas the CV iterator empty? \u001b[39m\u001b[38;5;124m\"\u001b[39m\n\u001b[0;32m    843\u001b[0m         \u001b[38;5;124m\"\u001b[39m\u001b[38;5;124mWere there no candidates?\u001b[39m\u001b[38;5;124m\"\u001b[39m\n\u001b[0;32m    844\u001b[0m     )\n",
            "File \u001b[1;32mD:\\ML\\Python310\\lib\\site-packages\\joblib\\parallel.py:1098\u001b[0m, in \u001b[0;36mParallel.__call__\u001b[1;34m(self, iterable)\u001b[0m\n\u001b[0;32m   1095\u001b[0m     \u001b[38;5;28mself\u001b[39m\u001b[38;5;241m.\u001b[39m_iterating \u001b[38;5;241m=\u001b[39m \u001b[38;5;28;01mFalse\u001b[39;00m\n\u001b[0;32m   1097\u001b[0m \u001b[38;5;28;01mwith\u001b[39;00m \u001b[38;5;28mself\u001b[39m\u001b[38;5;241m.\u001b[39m_backend\u001b[38;5;241m.\u001b[39mretrieval_context():\n\u001b[1;32m-> 1098\u001b[0m     \u001b[38;5;28;43mself\u001b[39;49m\u001b[38;5;241;43m.\u001b[39;49m\u001b[43mretrieve\u001b[49m\u001b[43m(\u001b[49m\u001b[43m)\u001b[49m\n\u001b[0;32m   1099\u001b[0m \u001b[38;5;66;03m# Make sure that we get a last message telling us we are done\u001b[39;00m\n\u001b[0;32m   1100\u001b[0m elapsed_time \u001b[38;5;241m=\u001b[39m time\u001b[38;5;241m.\u001b[39mtime() \u001b[38;5;241m-\u001b[39m \u001b[38;5;28mself\u001b[39m\u001b[38;5;241m.\u001b[39m_start_time\n",
            "File \u001b[1;32mD:\\ML\\Python310\\lib\\site-packages\\joblib\\parallel.py:975\u001b[0m, in \u001b[0;36mParallel.retrieve\u001b[1;34m(self)\u001b[0m\n\u001b[0;32m    973\u001b[0m \u001b[38;5;28;01mtry\u001b[39;00m:\n\u001b[0;32m    974\u001b[0m     \u001b[38;5;28;01mif\u001b[39;00m \u001b[38;5;28mgetattr\u001b[39m(\u001b[38;5;28mself\u001b[39m\u001b[38;5;241m.\u001b[39m_backend, \u001b[38;5;124m'\u001b[39m\u001b[38;5;124msupports_timeout\u001b[39m\u001b[38;5;124m'\u001b[39m, \u001b[38;5;28;01mFalse\u001b[39;00m):\n\u001b[1;32m--> 975\u001b[0m         \u001b[38;5;28mself\u001b[39m\u001b[38;5;241m.\u001b[39m_output\u001b[38;5;241m.\u001b[39mextend(\u001b[43mjob\u001b[49m\u001b[38;5;241;43m.\u001b[39;49m\u001b[43mget\u001b[49m\u001b[43m(\u001b[49m\u001b[43mtimeout\u001b[49m\u001b[38;5;241;43m=\u001b[39;49m\u001b[38;5;28;43mself\u001b[39;49m\u001b[38;5;241;43m.\u001b[39;49m\u001b[43mtimeout\u001b[49m\u001b[43m)\u001b[49m)\n\u001b[0;32m    976\u001b[0m     \u001b[38;5;28;01melse\u001b[39;00m:\n\u001b[0;32m    977\u001b[0m         \u001b[38;5;28mself\u001b[39m\u001b[38;5;241m.\u001b[39m_output\u001b[38;5;241m.\u001b[39mextend(job\u001b[38;5;241m.\u001b[39mget())\n",
            "File \u001b[1;32mD:\\ML\\Python310\\lib\\site-packages\\joblib\\_parallel_backends.py:567\u001b[0m, in \u001b[0;36mLokyBackend.wrap_future_result\u001b[1;34m(future, timeout)\u001b[0m\n\u001b[0;32m    564\u001b[0m \u001b[38;5;124;03m\"\"\"Wrapper for Future.result to implement the same behaviour as\u001b[39;00m\n\u001b[0;32m    565\u001b[0m \u001b[38;5;124;03mAsyncResults.get from multiprocessing.\"\"\"\u001b[39;00m\n\u001b[0;32m    566\u001b[0m \u001b[38;5;28;01mtry\u001b[39;00m:\n\u001b[1;32m--> 567\u001b[0m     \u001b[38;5;28;01mreturn\u001b[39;00m \u001b[43mfuture\u001b[49m\u001b[38;5;241;43m.\u001b[39;49m\u001b[43mresult\u001b[49m\u001b[43m(\u001b[49m\u001b[43mtimeout\u001b[49m\u001b[38;5;241;43m=\u001b[39;49m\u001b[43mtimeout\u001b[49m\u001b[43m)\u001b[49m\n\u001b[0;32m    568\u001b[0m \u001b[38;5;28;01mexcept\u001b[39;00m CfTimeoutError \u001b[38;5;28;01mas\u001b[39;00m e:\n\u001b[0;32m    569\u001b[0m     \u001b[38;5;28;01mraise\u001b[39;00m \u001b[38;5;167;01mTimeoutError\u001b[39;00m \u001b[38;5;28;01mfrom\u001b[39;00m \u001b[38;5;21;01me\u001b[39;00m\n",
            "File \u001b[1;32mD:\\ML\\Python310\\lib\\concurrent\\futures\\_base.py:446\u001b[0m, in \u001b[0;36mFuture.result\u001b[1;34m(self, timeout)\u001b[0m\n\u001b[0;32m    444\u001b[0m     \u001b[38;5;28;01mraise\u001b[39;00m CancelledError()\n\u001b[0;32m    445\u001b[0m \u001b[38;5;28;01melif\u001b[39;00m \u001b[38;5;28mself\u001b[39m\u001b[38;5;241m.\u001b[39m_state \u001b[38;5;241m==\u001b[39m FINISHED:\n\u001b[1;32m--> 446\u001b[0m     \u001b[38;5;28;01mreturn\u001b[39;00m \u001b[38;5;28;43mself\u001b[39;49m\u001b[38;5;241;43m.\u001b[39;49m\u001b[43m__get_result\u001b[49m\u001b[43m(\u001b[49m\u001b[43m)\u001b[49m\n\u001b[0;32m    447\u001b[0m \u001b[38;5;28;01melse\u001b[39;00m:\n\u001b[0;32m    448\u001b[0m     \u001b[38;5;28;01mraise\u001b[39;00m \u001b[38;5;167;01mTimeoutError\u001b[39;00m()\n",
            "File \u001b[1;32mD:\\ML\\Python310\\lib\\concurrent\\futures\\_base.py:391\u001b[0m, in \u001b[0;36mFuture.__get_result\u001b[1;34m(self)\u001b[0m\n\u001b[0;32m    389\u001b[0m \u001b[38;5;28;01mif\u001b[39;00m \u001b[38;5;28mself\u001b[39m\u001b[38;5;241m.\u001b[39m_exception:\n\u001b[0;32m    390\u001b[0m     \u001b[38;5;28;01mtry\u001b[39;00m:\n\u001b[1;32m--> 391\u001b[0m         \u001b[38;5;28;01mraise\u001b[39;00m \u001b[38;5;28mself\u001b[39m\u001b[38;5;241m.\u001b[39m_exception\n\u001b[0;32m    392\u001b[0m     \u001b[38;5;28;01mfinally\u001b[39;00m:\n\u001b[0;32m    393\u001b[0m         \u001b[38;5;66;03m# Break a reference cycle with the exception in self._exception\u001b[39;00m\n\u001b[0;32m    394\u001b[0m         \u001b[38;5;28mself\u001b[39m \u001b[38;5;241m=\u001b[39m \u001b[38;5;28;01mNone\u001b[39;00m\n",
            "\u001b[1;31mValueError\u001b[0m: Invalid parameter 'polynomial_features' for estimator LogisticRegression(max_iter=1000). Valid parameters are: ['C', 'class_weight', 'dual', 'fit_intercept', 'intercept_scaling', 'l1_ratio', 'max_iter', 'multi_class', 'n_jobs', 'penalty', 'random_state', 'solver', 'tol', 'verbose', 'warm_start']."
          ]
        }
      ],
      "source": [
        "# find the best hyper-parameter for the model\n",
        "gs_clf.fit(X_train, y_train)\n",
        "\n",
        "# predict on X_test\n",
        "y_pred_gs = gs_clf.predict(X_test)"
      ]
    },
    {
      "cell_type": "code",
      "execution_count": null,
      "metadata": {
        "jupyter": {
          "outputs_hidden": false
        },
        "id": "BUwwIeqfklzB",
        "outputId": "49887f31-6ace-431f-e577-aeef0697da61"
      },
      "outputs": [
        {
          "ename": "AttributeError",
          "evalue": "'GridSearchCV' object has no attribute 'best_params_'",
          "output_type": "error",
          "traceback": [
            "\u001b[1;31m---------------------------------------------------------------------------\u001b[0m",
            "\u001b[1;31mAttributeError\u001b[0m                            Traceback (most recent call last)",
            "Input \u001b[1;32mIn [34]\u001b[0m, in \u001b[0;36m<cell line: 2>\u001b[1;34m()\u001b[0m\n\u001b[0;32m      1\u001b[0m \u001b[38;5;66;03m# print the best parameters and evaluate the accuracy\u001b[39;00m\n\u001b[1;32m----> 2\u001b[0m \u001b[38;5;28mprint\u001b[39m(\u001b[38;5;124m\"\u001b[39m\u001b[38;5;124mTuned Hyperparameters :\u001b[39m\u001b[38;5;124m\"\u001b[39m, \u001b[43mgs_clf\u001b[49m\u001b[38;5;241;43m.\u001b[39;49m\u001b[43mbest_params_\u001b[49m)\n\u001b[0;32m      3\u001b[0m \u001b[38;5;28mprint\u001b[39m(\u001b[38;5;124m\"\u001b[39m\u001b[38;5;124mAccuracy :\u001b[39m\u001b[38;5;124m\"\u001b[39m, metrics\u001b[38;5;241m.\u001b[39maccuracy_score(y_test, y_pred_gs))\n",
            "\u001b[1;31mAttributeError\u001b[0m: 'GridSearchCV' object has no attribute 'best_params_'"
          ]
        }
      ],
      "source": [
        "# print the best parameters and evaluate the accuracy\n",
        "print(\"Tuned Hyperparameters :\", gs_clf.best_params_)\n",
        "print(\"Accuracy :\", metrics.accuracy_score(y_test, y_pred_gs))"
      ]
    },
    {
      "cell_type": "markdown",
      "metadata": {
        "jp-MarkdownHeadingCollapsed": true,
        "tags": [],
        "id": "biz7CRpoklzB"
      },
      "source": [
        "#### Construct a LR with the best params and Evaluate the LR with the best params"
      ]
    },
    {
      "cell_type": "code",
      "execution_count": null,
      "metadata": {
        "jupyter": {
          "outputs_hidden": false
        },
        "id": "UI-NrZFVklzC"
      },
      "outputs": [],
      "source": [
        "# construct a LR with the best parameters\n",
        "lr_clf = LogisticRegression(penalty='l1', C=10.0, solver='liblinear')"
      ]
    },
    {
      "cell_type": "code",
      "execution_count": null,
      "metadata": {
        "jupyter": {
          "outputs_hidden": false
        },
        "id": "YyR4Zin5klzC"
      },
      "outputs": [],
      "source": [
        "# fir the model and predict on X_test\n",
        "lr_clf.fit(X_train, y_train)\n",
        "y_pred_lr = lr_clf.predict(X_test)"
      ]
    },
    {
      "cell_type": "code",
      "execution_count": null,
      "metadata": {
        "jupyter": {
          "outputs_hidden": false
        },
        "id": "kKTOVwOoklzC",
        "outputId": "28af957d-4795-48a5-9c90-2509b538d12e"
      },
      "outputs": [
        {
          "name": "stdout",
          "output_type": "stream",
          "text": [
            "Testing accuracy = 0.9937888198757764\n",
            "Testing precision = 0.9333333333333333\n",
            "Testing recall = 1.0\n",
            "Testing F1-score = 0.9655172413793104\n"
          ]
        }
      ],
      "source": [
        "# evaluate the LR using accuracy, precision, recall, and F1-score\n",
        "print_clf_metrics(y_test, y_pred_lr)"
      ]
    },
    {
      "cell_type": "markdown",
      "metadata": {
        "jp-MarkdownHeadingCollapsed": true,
        "tags": [],
        "id": "_IyXSkglklzC"
      },
      "source": [
        "#### Print the top 5 most influencing features and the top 5 ignored features"
      ]
    },
    {
      "cell_type": "code",
      "execution_count": null,
      "metadata": {
        "jupyter": {
          "outputs_hidden": false
        },
        "id": "fS1XMdp4klzC"
      },
      "outputs": [],
      "source": [
        "# get the coefficients from the LR\n",
        "coefs = lr_clf.coef_\n",
        "columns = pd.DataFrame(X_train.columns, columns=['col'])\n",
        "# make a dataframe with columns \"name of feature\", and \"coeffitient\"\n",
        "important = pd.concat([columns, pd.DataFrame(coefs.transpose(), columns=['coef'])], axis=1)\n",
        "# sort by coeffitient\n",
        "important = important.sort_values(by=['coef'], ascending=False)"
      ]
    },
    {
      "cell_type": "code",
      "execution_count": null,
      "metadata": {
        "id": "41AJf-G7klzD",
        "outputId": "64db5b77-04e3-455f-f928-9a76a2467596"
      },
      "outputs": [
        {
          "data": {
            "text/html": [
              "<div>\n",
              "<style scoped>\n",
              "    .dataframe tbody tr th:only-of-type {\n",
              "        vertical-align: middle;\n",
              "    }\n",
              "\n",
              "    .dataframe tbody tr th {\n",
              "        vertical-align: top;\n",
              "    }\n",
              "\n",
              "    .dataframe thead th {\n",
              "        text-align: right;\n",
              "    }\n",
              "</style>\n",
              "<table border=\"1\" class=\"dataframe\">\n",
              "  <thead>\n",
              "    <tr style=\"text-align: right;\">\n",
              "      <th></th>\n",
              "      <th>col</th>\n",
              "      <th>coef</th>\n",
              "    </tr>\n",
              "  </thead>\n",
              "  <tbody>\n",
              "    <tr>\n",
              "      <th>18</th>\n",
              "      <td>base_egg_steps</td>\n",
              "      <td>13.127553</td>\n",
              "    </tr>\n",
              "    <tr>\n",
              "      <th>28</th>\n",
              "      <td>speed</td>\n",
              "      <td>8.908313</td>\n",
              "    </tr>\n",
              "    <tr>\n",
              "      <th>22</th>\n",
              "      <td>experience_growth</td>\n",
              "      <td>8.720971</td>\n",
              "    </tr>\n",
              "    <tr>\n",
              "      <th>36</th>\n",
              "      <td>type1_fire</td>\n",
              "      <td>3.284753</td>\n",
              "    </tr>\n",
              "    <tr>\n",
              "      <th>21</th>\n",
              "      <td>defense</td>\n",
              "      <td>3.030014</td>\n",
              "    </tr>\n",
              "  </tbody>\n",
              "</table>\n",
              "</div>"
            ],
            "text/plain": [
              "                  col       coef\n",
              "18     base_egg_steps  13.127553\n",
              "28              speed   8.908313\n",
              "22  experience_growth   8.720971\n",
              "36         type1_fire   3.284753\n",
              "21            defense   3.030014"
            ]
          },
          "execution_count": 42,
          "metadata": {},
          "output_type": "execute_result"
        }
      ],
      "source": [
        "# take the 5 most important features\n",
        "important.head()"
      ]
    },
    {
      "cell_type": "code",
      "execution_count": null,
      "metadata": {
        "id": "wstpLTtvklzD",
        "outputId": "e558a126-e0d9-47ca-c4f9-1e3854fa5899"
      },
      "outputs": [
        {
          "data": {
            "text/html": [
              "<div>\n",
              "<style scoped>\n",
              "    .dataframe tbody tr th:only-of-type {\n",
              "        vertical-align: middle;\n",
              "    }\n",
              "\n",
              "    .dataframe tbody tr th {\n",
              "        vertical-align: top;\n",
              "    }\n",
              "\n",
              "    .dataframe thead th {\n",
              "        text-align: right;\n",
              "    }\n",
              "</style>\n",
              "<table border=\"1\" class=\"dataframe\">\n",
              "  <thead>\n",
              "    <tr style=\"text-align: right;\">\n",
              "      <th></th>\n",
              "      <th>col</th>\n",
              "      <th>coef</th>\n",
              "    </tr>\n",
              "  </thead>\n",
              "  <tbody>\n",
              "    <tr>\n",
              "      <th>23</th>\n",
              "      <td>height_m</td>\n",
              "      <td>-2.045932</td>\n",
              "    </tr>\n",
              "    <tr>\n",
              "      <th>25</th>\n",
              "      <td>percentage_male</td>\n",
              "      <td>-2.075379</td>\n",
              "    </tr>\n",
              "    <tr>\n",
              "      <th>2</th>\n",
              "      <td>against_dragon</td>\n",
              "      <td>-7.367624</td>\n",
              "    </tr>\n",
              "    <tr>\n",
              "      <th>41</th>\n",
              "      <td>type1_normal</td>\n",
              "      <td>-9.403051</td>\n",
              "    </tr>\n",
              "    <tr>\n",
              "      <th>20</th>\n",
              "      <td>capture_rate</td>\n",
              "      <td>-11.675930</td>\n",
              "    </tr>\n",
              "  </tbody>\n",
              "</table>\n",
              "</div>"
            ],
            "text/plain": [
              "                col       coef\n",
              "23         height_m  -2.045932\n",
              "25  percentage_male  -2.075379\n",
              "2    against_dragon  -7.367624\n",
              "41     type1_normal  -9.403051\n",
              "20     capture_rate -11.675930"
            ]
          },
          "execution_count": 43,
          "metadata": {},
          "output_type": "execute_result"
        }
      ],
      "source": [
        "# take the 5 least important features\n",
        "important.tail()"
      ]
    },
    {
      "cell_type": "markdown",
      "metadata": {
        "id": "fv-kDFTIklzD"
      },
      "source": [
        "#### Tuning KNN model"
      ]
    },
    {
      "cell_type": "code",
      "execution_count": null,
      "metadata": {
        "jupyter": {
          "outputs_hidden": false
        },
        "id": "smfo8HndklzD",
        "outputId": "b9e9b58d-53f9-48b5-b295-9ba09820bc30"
      },
      "outputs": [
        {
          "name": "stdout",
          "output_type": "stream",
          "text": [
            "Tuned Hyperparameters : {'metric': 'cosine', 'n_neighbors': 1, 'weights': 'uniform'}\n",
            "Accuracy : 0.9751552795031055\n"
          ]
        }
      ],
      "source": [
        "from sklearn.neighbors import KNeighborsClassifier\n",
        "\n",
        "# define parameters for Grid Search\n",
        "param_grid = {'n_neighbors': list(range(1, 11)),\n",
        "              'weights':['uniform', 'distance'],\n",
        "              'metric':['euclidean', 'manhattan', 'chebyshev', 'cosine']\n",
        "              }\n",
        "\n",
        "# construct Grid Search\n",
        "grid_search_clf = GridSearchCV(KNeighborsClassifier(), param_grid, cv=5, n_jobs=1)\n",
        "\n",
        "# fit the search and predict on X_test\n",
        "grid_search_clf.fit(X_train, y_train)\n",
        "y_pred_grid = grid_search_clf.predict(X_test)\n",
        "\n",
        "# print the best hyper-parameters for KNN and the obtained accuracy\n",
        "print(\"Tuned Hyperparameters :\", grid_search_clf.best_params_)\n",
        "print(\"Accuracy :\", metrics.accuracy_score(y_test, y_pred_grid))"
      ]
    },
    {
      "cell_type": "markdown",
      "metadata": {
        "id": "LWHHGxtFklzE"
      },
      "source": [
        "#### Construct a KNN model with the best params and Evaluate the KNN with the best params\n"
      ]
    },
    {
      "cell_type": "code",
      "execution_count": null,
      "metadata": {
        "jupyter": {
          "outputs_hidden": false
        },
        "id": "TtFvsbJDklzE",
        "outputId": "93b68722-0502-4dd8-d3e5-3084137a5865"
      },
      "outputs": [
        {
          "name": "stdout",
          "output_type": "stream",
          "text": [
            "Testing accuracy = 0.9751552795031055\n",
            "Testing precision = 1.0\n",
            "Testing recall = 0.7142857142857143\n",
            "Testing F1-score = 0.8333333333333333\n"
          ]
        }
      ],
      "source": [
        "# construct the KNN model with the best parameters\n",
        "knn = KNeighborsClassifier(metric='cosine', n_neighbors=1, weights='uniform')\n",
        "# fit the model and predict on X_test\n",
        "knn.fit(X_train, y_train)\n",
        "y_pred_knn = knn.predict(X_test)\n",
        "# evaluate the model using accuracy, precisin, recall, and F1-score\n",
        "print_clf_metrics(y_test, y_pred_knn)"
      ]
    },
    {
      "cell_type": "markdown",
      "metadata": {
        "id": "umyrFeNnklzE"
      },
      "source": [
        "#### Fitting GNB to the data and evaluating on the test dataset"
      ]
    },
    {
      "cell_type": "code",
      "execution_count": null,
      "metadata": {
        "jupyter": {
          "outputs_hidden": false
        },
        "id": "UZcCGJyxklzE",
        "outputId": "62da19c2-81aa-4cf1-d45c-c3da4fa0db03"
      },
      "outputs": [
        {
          "name": "stdout",
          "output_type": "stream",
          "text": [
            "Testing accuracy = 0.9316770186335404\n",
            "Testing precision = 0.56\n",
            "Testing recall = 1.0\n",
            "Testing F1-score = 0.717948717948718\n"
          ]
        }
      ],
      "source": [
        "from sklearn.naive_bayes import GaussianNB\n",
        "\n",
        "# construct Gaussian Naive-Bayes\n",
        "gauss_nb = GaussianNB()\n",
        "# fit the model and predict on X_test\n",
        "gauss_nb.fit(X_train, y_train)\n",
        "y_pred = gauss_nb.predict(X_test)\n",
        "\n",
        "# evaluate the model using accuracy, precision, recall, and F1-score\n",
        "print_clf_metrics(y_test, y_pred)"
      ]
    },
    {
      "cell_type": "markdown",
      "metadata": {
        "tags": [],
        "id": "KwalXFU8klzE"
      },
      "source": [
        "#### Our dataset is not balanced, so accuracy is not a reliable metrci for this case. We should look on both metrics: precision and recall, but for this purposes we can take only F1-score, because it is a combination of precision and recall. Thus F-1 score metrci is the most appropriate"
      ]
    },
    {
      "cell_type": "markdown",
      "metadata": {
        "tags": [],
        "id": "xf-cLs7ZklzE"
      },
      "source": [
        "#### LR:\n",
        "###### Testing accuracy = 0.9937888198757764\n",
        "###### Testing precision = 0.9333333333333333\n",
        "###### Testing recall = 1.0\n",
        "###### Testing F1-score = 0.9655172413793104\n",
        "\n",
        "#### KNN:\n",
        "###### Testing accuracy = 0.9751552795031055\n",
        "###### Testing precision = 1.0\n",
        "###### Testing recall = 0.7142857142857143\n",
        "###### Testing F1-score = 0.8333333333333333\n",
        "\n",
        "#### GNB\n",
        "###### Testing accuracy = 0.9316770186335404\n",
        "###### Testing precision = 0.56\n",
        "###### Testing recall = 1.0\n",
        "###### Testing F1-score = 0.717948717948718\n",
        "\n",
        "## Based on the answer above I will pick the model with the highest F1-score, and it is LR"
      ]
    }
  ],
  "metadata": {
    "kernelspec": {
      "display_name": "Python 3 (ipykernel)",
      "language": "python",
      "name": "python3"
    },
    "language_info": {
      "codemirror_mode": {
        "name": "ipython",
        "version": 3
      },
      "file_extension": ".py",
      "mimetype": "text/x-python",
      "name": "python",
      "nbconvert_exporter": "python",
      "pygments_lexer": "ipython3",
      "version": "3.10.5"
    },
    "colab": {
      "provenance": []
    }
  },
  "nbformat": 4,
  "nbformat_minor": 0
}