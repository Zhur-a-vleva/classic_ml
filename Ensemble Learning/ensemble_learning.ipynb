{
  "cells": [
    {
      "cell_type": "markdown",
      "source": [
        "# Ensemble Learning"
      ],
      "metadata": {
        "collapsed": false,
        "pycharm": {
          "name": "#%% md\n"
        },
        "id": "SkQhgihr_SN6"
      }
    },
    {
      "cell_type": "code",
      "execution_count": null,
      "outputs": [
        {
          "data": {
            "text/plain": "<Figure size 300x300 with 1 Axes>",
            "image/png": "[encoded data removed]"
          },
          "metadata": {},
          "output_type": "display_data"
        }
      ],
      "source": [
        "from sklearn.datasets import load_digits\n",
        "from sklearn.model_selection import train_test_split\n",
        "import matplotlib.pyplot as plt\n",
        "\n",
        "digits = load_digits()\n",
        "X = digits.data\n",
        "y = digits.target\n",
        "\n",
        "X_train, X_test, y_train, y_test = train_test_split(X, y, test_size=0.33, random_state=0)\n",
        "\n",
        "\n",
        "plt.figure(1, figsize=(3, 3))\n",
        "plt.imshow(X[0].reshape((8,8)), cmap=\"gray\")\n",
        "plt.xticks([])\n",
        "plt.yticks([])\n",
        "plt.title(f\"label is {y[0]}\")\n",
        "plt.show()"
      ],
      "metadata": {
        "pycharm": {
          "name": "#%%\n"
        },
        "id": "ziuC6trL_SN9",
        "outputId": "d8d6fb93-dd27-4518-d5ff-ce9dd8cae3c4"
      }
    },
    {
      "cell_type": "markdown",
      "source": [
        "### Single decision tree"
      ],
      "metadata": {
        "collapsed": false,
        "pycharm": {
          "name": "#%% md\n"
        },
        "id": "-pIjJ2Mp_SN-"
      }
    },
    {
      "cell_type": "code",
      "execution_count": null,
      "outputs": [
        {
          "name": "stdout",
          "output_type": "stream",
          "text": [
            "Single tree accuracy: 0.8501683501683501\n"
          ]
        }
      ],
      "source": [
        "from sklearn.tree import DecisionTreeClassifier\n",
        "from sklearn.metrics import accuracy_score\n",
        "\n",
        "tree = DecisionTreeClassifier(random_state=42)\n",
        "tree.fit(X_train, y_train)\n",
        "pred = tree.predict(X_test)\n",
        "tree_score = accuracy_score(y_test, pred)\n",
        "print(\"Single tree accuracy:\", tree_score)"
      ],
      "metadata": {
        "pycharm": {
          "name": "#%%\n"
        },
        "id": "daP5xQIe_SN_",
        "outputId": "5d59a59e-a55a-4f2c-aa0b-8217592226b1"
      }
    },
    {
      "cell_type": "markdown",
      "source": [
        "### Bagging"
      ],
      "metadata": {
        "collapsed": false,
        "pycharm": {
          "name": "#%% md\n"
        },
        "id": "udxRQuO5_SN_"
      }
    },
    {
      "cell_type": "code",
      "execution_count": null,
      "outputs": [
        {
          "name": "stdout",
          "output_type": "stream",
          "text": [
            "Predictions for the 0th sample\n",
            "62 Trees predicted 3\n",
            "38 Trees predicted 8\n",
            "\n",
            "Predictions for the 1th sample\n",
            "100 Trees predicted 8\n",
            "\n",
            "Predictions for the 2th sample\n",
            "100 Trees predicted 2\n",
            "\n",
            "Predictions for the 3th sample\n",
            "100 Trees predicted 6\n",
            "\n",
            "Predictions for the 4th sample\n",
            "100 Trees predicted 6\n",
            "\n",
            "Bagging accuracy: 0.8787878787878788\n"
          ]
        },
        {
          "name": "stderr",
          "output_type": "stream",
          "text": [
            "C:\\Users\\yusuf\\AppData\\Local\\Temp\\ipykernel_30264\\515391955.py:27: FutureWarning: Unlike other reduction functions (e.g. `skew`, `kurtosis`), the default behavior of `mode` typically preserves the axis it acts along. In SciPy 1.11.0, this behavior will change: the default value of `keepdims` will become False, the `axis` over which the statistic is taken will be eliminated, and the value None will no longer be accepted. Set `keepdims` to True or False to avoid this warning.\n",
            "  pred = mode(base_pred, axis=1)[0].ravel()\n"
          ]
        }
      ],
      "source": [
        "import numpy as np\n",
        "from scipy.stats import mode\n",
        "\n",
        "n_trees = 100\n",
        "\n",
        "classifiers = []\n",
        "for i in range(n_trees):\n",
        "    # train a new classifier and append it to the list\n",
        "    tree = DecisionTreeClassifier()\n",
        "    tree.fit(X_train, y_train)\n",
        "    classifiers.append(tree)\n",
        "\n",
        "# here we will store predictions for all samples and all base classifiers\n",
        "base_pred = np.zeros((X_test.shape[0], n_trees), dtype=\"int\")\n",
        "for i in range(n_trees):\n",
        "    # obtain the predictions from each tree\n",
        "    base_pred[:,i] = classifiers[i].predict(X_test)\n",
        "\n",
        "for i in range(5):\n",
        "    print(f'Predictions for the {i}th sample')\n",
        "    sample_pred, sample_pred_count = np.unique(base_pred[i], return_counts=True)\n",
        "    for j in range(len(sample_pred)):\n",
        "        print(sample_pred_count[j],'Trees predicted', sample_pred[j])\n",
        "    print()\n",
        "\n",
        "# aggregate predictions by majority voting\n",
        "pred = mode(base_pred, axis=1)[0].ravel()\n",
        "acc = accuracy_score(y_test, pred)\n",
        "print(\"Bagging accuracy:\", acc)"
      ],
      "metadata": {
        "pycharm": {
          "name": "#%%\n"
        },
        "id": "Kwe9Enlk_SN_",
        "outputId": "4f8f0598-d1fb-45da-c4b7-e096e248bc33"
      }
    },
    {
      "cell_type": "code",
      "execution_count": null,
      "outputs": [
        {
          "data": {
            "text/plain": "0.9747474747474747"
          },
          "execution_count": 213,
          "metadata": {},
          "output_type": "execute_result"
        }
      ],
      "source": [
        "from sklearn.ensemble import RandomForestClassifier\n",
        "clf = RandomForestClassifier(n_estimators=100, random_state=42)\n",
        "clf = clf.fit(X_train, y_train)\n",
        "clf.score(X_test, y_test)"
      ],
      "metadata": {
        "pycharm": {
          "name": "#%%\n"
        },
        "id": "TWOMmLb-_SOA",
        "outputId": "71fb5913-1283-4840-8508-93226940f993"
      }
    },
    {
      "cell_type": "markdown",
      "source": [
        "### Random forest"
      ],
      "metadata": {
        "collapsed": false,
        "pycharm": {
          "name": "#%% md\n"
        },
        "id": "iku7uEsD_SOA"
      }
    },
    {
      "cell_type": "code",
      "execution_count": null,
      "outputs": [
        {
          "data": {
            "text/plain": "(array([[ 0,  1,  2],\n        [ 9, 10, 11],\n        [ 3,  4,  5],\n        [ 0,  1,  2]]),\n array([0, 3, 1, 0]))"
          },
          "execution_count": 214,
          "metadata": {},
          "output_type": "execute_result"
        }
      ],
      "source": [
        "def bootstrap(X, y):\n",
        "    # generate bootstrap indices and return data according to them\n",
        "    ind = np.random.randint(0, X.shape[0], X.shape[0])\n",
        "    return X[ind,:], y[ind]\n",
        "\n",
        "np.random.seed(0)\n",
        "a = np.array(range(12)).reshape(4,3)\n",
        "b = np.array(range(4))\n",
        "bootstrap(a, b)"
      ],
      "metadata": {
        "pycharm": {
          "name": "#%%\n"
        },
        "id": "HShkFzyM_SOA",
        "outputId": "b8068d2e-23dd-4dac-ab37-69c9c1e9470e"
      }
    },
    {
      "cell_type": "code",
      "execution_count": null,
      "outputs": [
        {
          "name": "stdout",
          "output_type": "stream",
          "text": [
            "Random forest accuracy: 0.9814814814814815\n"
          ]
        },
        {
          "name": "stderr",
          "output_type": "stream",
          "text": [
            "C:\\Users\\yusuf\\AppData\\Local\\Temp\\ipykernel_30264\\840478182.py:13: FutureWarning: Unlike other reduction functions (e.g. `skew`, `kurtosis`), the default behavior of `mode` typically preserves the axis it acts along. In SciPy 1.11.0, this behavior will change: the default value of `keepdims` will become False, the `axis` over which the statistic is taken will be eliminated, and the value None will no longer be accepted. Set `keepdims` to True or False to avoid this warning.\n",
            "  pred = mode(base_pred, axis=0)[0].ravel()\n"
          ]
        }
      ],
      "source": [
        "classifiers = []\n",
        "for i in range(n_trees):\n",
        "    # train a new tree on sqrt(n_features) and bootstrapped data, append it to the list\n",
        "    base = DecisionTreeClassifier(max_features=\"sqrt\", random_state=42)\n",
        "    bs_X, bs_y = bootstrap(X_train, y_train)\n",
        "    base.fit(bs_X, bs_y)\n",
        "    classifiers.append(base)\n",
        "\n",
        "base_pred = np.zeros((n_trees, X_test.shape[0]), dtype=\"int\")\n",
        "for i in range(n_trees):\n",
        "    base_pred[i,:] = classifiers[i].predict(X_test)\n",
        "\n",
        "pred = mode(base_pred, axis=0)[0].ravel()\n",
        "acc = accuracy_score(y_test, pred)\n",
        "print(\"Random forest accuracy:\", acc)"
      ],
      "metadata": {
        "pycharm": {
          "name": "#%%\n"
        },
        "id": "nI78ePph_SOB",
        "outputId": "b1d8f6b7-10d5-4f6e-9a84-c2847fa55f6e"
      }
    },
    {
      "cell_type": "markdown",
      "source": [
        "\n",
        "## Boosting"
      ],
      "metadata": {
        "collapsed": false,
        "pycharm": {
          "name": "#%% md\n"
        },
        "id": "Uj-SWn7z_SOB"
      }
    },
    {
      "cell_type": "code",
      "execution_count": null,
      "outputs": [],
      "source": [
        "from sklearn.datasets import load_breast_cancer\n",
        "data = load_breast_cancer()\n",
        "data['target'][data['target']==0] = -1  # turn 0s to -1 to make the calculations easier\n",
        "X_train, X_test, y_train, y_test = train_test_split(data['data'], data['target'], test_size=0.2, random_state=0)"
      ],
      "metadata": {
        "pycharm": {
          "name": "#%%\n"
        },
        "id": "EHr3X1ny_SOB"
      }
    },
    {
      "cell_type": "code",
      "execution_count": null,
      "outputs": [],
      "source": [
        "n_trees = 3\n",
        "tree_weights = np.zeros(n_trees)\n",
        "classifiers = []\n",
        "train_samples = X_train.shape[0]\n",
        "# initialize sample weights\n",
        "sample_weights = np.ones(train_samples) / train_samples\n",
        "for i in range(n_trees):\n",
        "    clf = DecisionTreeClassifier(min_samples_leaf=3, random_state=42)\n",
        "    clf.fit(X_train, y_train, sample_weight=sample_weights)\n",
        "    pred = clf.predict(X_train)\n",
        "    acc = accuracy_score(y_train, pred, sample_weight=sample_weights)\n",
        "    # Calculate tree weight\n",
        "    w = 0.5 * np.log(acc / (1 - acc))\n",
        "    tree_weights[i] = w\n",
        "    classifiers.append(clf)\n",
        "    # Update sample weights\n",
        "    for j in range(train_samples):\n",
        "        if pred[j] != y[j]:\n",
        "            sample_weights[j] = sample_weights[j] * np.exp(w)\n",
        "        else:\n",
        "            sample_weights[j] = sample_weights[j] * np.exp((-w))\n",
        "    # Normalize the weights\n",
        "    sample_weights = sample_weights / np.sum(sample_weights)"
      ],
      "metadata": {
        "pycharm": {
          "name": "#%%\n"
        },
        "id": "L_VMA2Mv_SOC"
      }
    },
    {
      "cell_type": "code",
      "execution_count": null,
      "outputs": [
        {
          "name": "stdout",
          "output_type": "stream",
          "text": [
            "Boosting accuracy: 0.9473684210526315\n"
          ]
        }
      ],
      "source": [
        "n_test = X_test.shape[0]\n",
        "\n",
        "pred = np.zeros(n_test)\n",
        "# Aggregate the  predictions\n",
        "for t in range(n_trees):\n",
        "    pred += classifiers[t].predict(X_test) * tree_weights[t]\n",
        "for i in range(n_test):\n",
        "    pred[i] = 1 if pred[i] > 0 else -1\n",
        "\n",
        "\n",
        "acc = accuracy_score(y_test, pred)\n",
        "print(\"Boosting accuracy:\", acc)\n"
      ],
      "metadata": {
        "pycharm": {
          "name": "#%%\n"
        },
        "id": "dY_glkLt_SOC",
        "outputId": "704c11ea-1c9e-4e86-e9a6-b89a9fe46a7a"
      }
    },
    {
      "cell_type": "markdown",
      "source": [
        "# AdaBoost"
      ],
      "metadata": {
        "collapsed": false,
        "pycharm": {
          "name": "#%% md\n"
        },
        "id": "wxl3jbZZ_SOC"
      }
    },
    {
      "cell_type": "code",
      "execution_count": null,
      "outputs": [
        {
          "name": "stdout",
          "output_type": "stream",
          "text": [
            "AdaBoost accuracy: 0.956140350877193\n"
          ]
        }
      ],
      "source": [
        "from sklearn.ensemble import AdaBoostClassifier\n",
        "\n",
        "clf = AdaBoostClassifier(\n",
        "    DecisionTreeClassifier(max_depth=1),\n",
        "    n_estimators=100\n",
        ")\n",
        "clf = clf.fit(X_train, y_train)\n",
        "print('AdaBoost accuracy:', clf.score(X_test, y_test))\n"
      ],
      "metadata": {
        "pycharm": {
          "name": "#%%\n"
        },
        "id": "UDLFX1fV_SOC",
        "outputId": "8392d46b-8e57-4949-e472-14b41ac9805c"
      }
    }
  ],
  "metadata": {
    "kernelspec": {
      "display_name": "Python 3.8.8 ('env': venv)",
      "language": "python",
      "name": "python3"
    },
    "language_info": {
      "codemirror_mode": {
        "name": "ipython",
        "version": 3
      },
      "file_extension": ".py",
      "mimetype": "text/x-python",
      "name": "python",
      "nbconvert_exporter": "python",
      "pygments_lexer": "ipython3",
      "version": "3.8.8"
    },
    "orig_nbformat": 4,
    "vscode": {
      "interpreter": {
        "hash": "6df0ddd77085922c773681b1c23afa6ec355a7eb5a25c833f534ec75c0111436"
      }
    },
    "colab": {
      "provenance": []
    }
  },
  "nbformat": 4,
  "nbformat_minor": 0
}