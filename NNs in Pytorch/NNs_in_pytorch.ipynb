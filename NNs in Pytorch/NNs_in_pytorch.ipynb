{
  "cells": [
    {
      "cell_type": "markdown",
      "metadata": {
        "id": "NQ84QHlub057"
      },
      "source": [
        "# Advanced training of Neural Networks in Pytorch"
      ]
    },
    {
      "cell_type": "markdown",
      "metadata": {
        "id": "WyAmrz7Hb06D",
        "pycharm": {
          "name": "#%% md\n"
        }
      },
      "source": [
        "# Data augmentation"
      ]
    },
    {
      "cell_type": "code",
      "execution_count": null,
      "metadata": {
        "id": "8K1MNlrdb06D",
        "pycharm": {
          "name": "#%%\n"
        }
      },
      "outputs": [],
      "source": [
        "import torch\n",
        "from torch.utils import data\n",
        "from torchvision import datasets, transforms\n",
        "\n",
        "train_batch_size = 128\n",
        "test_batch_size = 128\n",
        "\n",
        "# Put augmentations\n",
        "train_transforms = transforms.Compose([\n",
        "    transforms.RandomCrop(32, padding=2),\n",
        "    transforms.RandomHorizontalFlip(), # FLips the image w.r.t horizontal axis\n",
        "    transforms.RandomRotation(10),     #Rotates the image to a specified angel\n",
        "    transforms.RandomAffine(0, shear=10, scale=(0.8,1.2)), #Performs actions like zooms, change shear angles.\n",
        "    transforms.ToTensor(),\n",
        "    transforms.Normalize((0.5, 0.5, 0.5), (0.5, 0.5, 0.5))\n",
        "])\n",
        "test_transforms = transforms.Compose([\n",
        "    transforms.ToTensor(),\n",
        "    transforms.Normalize((0.5, 0.5, 0.5), (0.5, 0.5, 0.5))\n",
        "])\n",
        "\n",
        "\n",
        "train_dataset = datasets.CIFAR10(root='cifar10',\n",
        "                                 train=True,\n",
        "                                 transform=train_transforms,\n",
        "                                 download=True)\n",
        "\n",
        "train_data_loader = data.DataLoader(train_dataset,\n",
        "                                    batch_size=train_batch_size,\n",
        "                                    shuffle=True,\n",
        "                                    drop_last=True,\n",
        "                                    num_workers=2)\n",
        "\n",
        "test_dataset = datasets.CIFAR10(root='cifar10',\n",
        "                                 train=False,\n",
        "                                 transform=test_transforms,\n",
        "                                 download=True)\n",
        "\n",
        "test_data_loader = data.DataLoader(test_dataset,\n",
        "                                    batch_size=test_batch_size,\n",
        "                                    shuffle=False,\n",
        "                                    num_workers=2)"
      ]
    },
    {
      "cell_type": "code",
      "execution_count": null,
      "metadata": {
        "id": "oG8ITx9b9Gp2"
      },
      "outputs": [],
      "source": [
        "# Check the results of transformations\n",
        "import matplotlib.pyplot as plt\n",
        "images, _ = next(iter(train_data_loader))\n",
        "\n",
        "fig, axs = plt.subplots(nrows=1, ncols=4)\n",
        "\n",
        "for i in range(4):\n",
        "    ax = axs[i]\n",
        "    ax.imshow(images[i].numpy().transpose(1,2,0))\n",
        "    ax.set(xticklabels=[], yticklabels=[], xticks=[], yticks=[])\n",
        "\n",
        "plt.tight_layout()\n",
        "plt.show()"
      ]
    },
    {
      "cell_type": "markdown",
      "metadata": {
        "id": "nH8Ovp-Sb06E"
      },
      "source": [
        "# Build a model with dropout and batch normalization"
      ]
    },
    {
      "cell_type": "code",
      "execution_count": null,
      "metadata": {
        "id": "e9fWUDdub06E",
        "pycharm": {
          "name": "#%%\n"
        }
      },
      "outputs": [],
      "source": [
        "import torch\n",
        "import torch.nn as nn\n",
        "import torch.nn.functional as F\n",
        "\n",
        "class CustomModel(nn.Module):\n",
        "    def __init__(self):\n",
        "        super(CustomModel, self).__init__()\n",
        "        self.conv1 = nn.Sequential(\n",
        "            nn.Conv2d(\n",
        "                in_channels=3,\n",
        "                out_channels=16,\n",
        "                kernel_size=3),\n",
        "            nn.ReLU(),\n",
        "            nn.MaxPool2d(2, 2),\n",
        "            nn.BatchNorm2d(16)\n",
        "        )\n",
        "        self.conv2 = nn.Sequential(\n",
        "            nn.Conv2d(16, 32, 3),\n",
        "            nn.ReLU(),\n",
        "            nn.BatchNorm2d(32),\n",
        "            nn.Dropout(0.25)\n",
        "        )\n",
        "        self.conv3 = nn.Sequential(\n",
        "            nn.Conv2d(32, 64, 3),\n",
        "            nn.ReLU(),\n",
        "            nn.BatchNorm2d(64),\n",
        "        )\n",
        "        self.linear1 = nn.Sequential(\n",
        "            nn.Linear(64*11*11, 256),\n",
        "            nn.ReLU(),\n",
        "            nn.Dropout(0.1),\n",
        "            nn.Linear(256, 10)\n",
        "        )\n",
        "\n",
        "\n",
        "    def forward(self, x):\n",
        "        # Propagate x through the network\n",
        "        x = self.conv1(x)\n",
        "        x = self.conv2(x)\n",
        "        x = self.conv3(x)\n",
        "        x = torch.flatten(x, 1)\n",
        "        x = self.linear1(x)\n",
        "        return F.log_softmax(x, dim=1)\n",
        "\n",
        "use_cuda = torch.cuda.is_available()\n",
        "device = torch.device(\"cuda\" if use_cuda else \"cpu\")\n",
        "model = CustomModel().to(device)\n",
        "\n",
        "print(f'Device: {device}')\n",
        "\n",
        "print(model)"
      ]
    },
    {
      "cell_type": "markdown",
      "metadata": {
        "id": "WM_0vfc9b06F",
        "pycharm": {
          "name": "#%% md\n"
        }
      },
      "source": [
        "# Training pipeline upgrades: early stopping and LR scheduler"
      ]
    },
    {
      "cell_type": "code",
      "execution_count": null,
      "metadata": {
        "id": "_SV3TQc7b06F",
        "pycharm": {
          "name": "#%%\n"
        }
      },
      "outputs": [],
      "source": [
        "import operator\n",
        "import numpy as np\n",
        "\n",
        "class EarlyStopping():\n",
        "    def __init__(self, tolerance=5, min_delta=0, mode='min'):\n",
        "        '''\n",
        "        :param tolerance: number of epochs that the metric doesn't improve\n",
        "        :param min_delta: minimum improvement\n",
        "        :param mode: 'min' or 'max' to minimize or maximize the metric\n",
        "        '''\n",
        "        self.tolerance = tolerance\n",
        "        self.min_delta = min_delta\n",
        "        self.mode = mode\n",
        "        self.counter = 0\n",
        "        self.early_stop = False\n",
        "        self.prev_metric = np.inf if mode == 'min' else -np.inf\n",
        "        self.operation = operator.gt if mode == 'min' else operator.lt\n",
        "\n",
        "\n",
        "    def __call__(self, metric)->bool:\n",
        "        ''' This function should return True if `metric` is not improving for\n",
        "            'tolerance' calls\n",
        "        '''\n",
        "        delta = (metric - self.prev_metric)\n",
        "\n",
        "        if self.operation(delta, self.min_delta):\n",
        "            self.counter +=1\n",
        "        else:\n",
        "            self.counter = 0\n",
        "            self.prev_metric = metric\n",
        "\n",
        "        if self.counter >= self.tolerance:\n",
        "            self.early_stop = True\n",
        "        return self.early_stop"
      ]
    },
    {
      "cell_type": "markdown",
      "metadata": {
        "id": "I-NTx1UE9Gp5"
      },
      "source": [
        "\n",
        "### Let's look how different LR-schedulers work"
      ]
    },
    {
      "cell_type": "code",
      "execution_count": null,
      "metadata": {
        "id": "j99UFdDb9Gp5"
      },
      "outputs": [],
      "source": [
        "from torch.optim import lr_scheduler\n",
        "import matplotlib.pyplot as plt\n",
        "\n",
        "# Just a toy model\n",
        "class NullModule(nn.Module):\n",
        "    def __init__(self):\n",
        "        super().__init__()\n",
        "        self.fc = nn.Linear(1,1)\n",
        "\n",
        "\n",
        "toy_model = NullModule()\n",
        "optimizer = torch.optim.Adam(model.parameters(), lr=0.01)\n",
        "\n",
        "def plot_lr(scheduler, name):\n",
        "    # Re-init for each scheduler\n",
        "    optimizer.param_groups[0]['lr'] = 0.01\n",
        "    optimizer.zero_grad()\n",
        "    toy_model.zero_grad()\n",
        "    lrs = []\n",
        "    step = 100\n",
        "\n",
        "    fig, ax = plt.subplots()\n",
        "    ax.set(xlabel='Step', ylabel='LR value', title=name)\n",
        "\n",
        "    for i in range(step):\n",
        "        lr = optimizer.param_groups[0]['lr']\n",
        "        if name == \"ReduceLROnPlateau\":\n",
        "            scheduler.step(lr)\n",
        "        else:\n",
        "            scheduler.step()\n",
        "        lrs.append(lr)\n",
        "\n",
        "    ax.plot(lrs)\n",
        "    plt.show()\n",
        "\n",
        "\n",
        "LRs = {\"ReduceLROnPlateau\": lr_scheduler.ReduceLROnPlateau(optimizer, 'min', factor=0.3,\n",
        "                                                           patience=10, verbose=True,min_lr=0.001),\n",
        "       \"Step LR\": lr_scheduler.StepLR(optimizer, step_size=20, gamma=0.5),\n",
        "       \"Exponent LR\": lr_scheduler.ExponentialLR(optimizer, gamma=0.9),\n",
        "       \"Cyclic LR\":lr_scheduler.CyclicLR(optimizer, base_lr=0.01, max_lr=0.2,\n",
        "                                         cycle_momentum=False, step_size_up=10)}\n",
        "\n",
        "for name, lr in LRs.items():\n",
        "    plot_lr(lr, name)\n"
      ]
    },
    {
      "cell_type": "markdown",
      "metadata": {
        "id": "Pz8gdAFKb06F"
      },
      "source": [
        "# Gather all together in training loops"
      ]
    },
    {
      "cell_type": "code",
      "execution_count": null,
      "metadata": {
        "id": "jc9nKg7Pb06F",
        "pycharm": {
          "name": "#%%\n"
        }
      },
      "outputs": [],
      "source": [
        "from time import time\n",
        "from tqdm import tqdm\n",
        "\n",
        "\n",
        "def train(model, device, train_loader, criterion, optimizer, epoch):\n",
        "    model.train()\n",
        "    epoch_loss = 0\n",
        "    start_time = time()\n",
        "    correct = 0\n",
        "    iteration = 0\n",
        "\n",
        "    bar = tqdm(train_loader)\n",
        "    for data, target in bar:\n",
        "        data, target = data.to(device), target.to(device)\n",
        "        optimizer.zero_grad()\n",
        "\n",
        "        output = model(data)\n",
        "        # Get the index of the max log-probability\n",
        "        pred = output.argmax(dim=1, keepdim=True)\n",
        "        correct += pred.eq(target.view_as(pred)).sum().item()\n",
        "\n",
        "        loss = criterion(output, target)\n",
        "        loss.backward()\n",
        "        optimizer.step()\n",
        "\n",
        "        epoch_loss += loss.item()\n",
        "        iteration += 1\n",
        "        bar.set_postfix({\"Loss\": format(epoch_loss/iteration, '.6f')})\n",
        "\n",
        "    acc = 100. * correct / len(train_loader.dataset)\n",
        "    print(f'\\rTrain Epoch: {epoch}, elapsed time:{time()-start_time:.2f}s')\n",
        "    return epoch_loss, acc\n",
        "\n",
        "\n",
        "def test(model, device, test_loader, criterion):\n",
        "    model.eval()\n",
        "    test_loss = 0\n",
        "    correct = 0\n",
        "    with torch.no_grad():\n",
        "        for data, target in test_loader:\n",
        "            data, target = data.to(device), target.to(device)\n",
        "            output = model(data)\n",
        "            test_loss += criterion(output, target).item()  # sum up batch loss\n",
        "            pred = output.argmax(dim=1, keepdim=True)  # get the index of the max log-probability\n",
        "            correct += pred.eq(target.view_as(pred)).sum().item()\n",
        "\n",
        "    acc = 100. * correct / len(test_loader.dataset)\n",
        "    return test_loss, acc"
      ]
    },
    {
      "cell_type": "code",
      "execution_count": null,
      "metadata": {
        "pycharm": {
          "name": "#%%\n"
        },
        "id": "tuHTpCoq9Gp7"
      },
      "outputs": [],
      "source": [
        "from torch.optim import SGD\n",
        "from copy import deepcopy\n",
        "\n",
        "# Define hyperparams\n",
        "epochs = 100\n",
        "\n",
        "criterion = nn.CrossEntropyLoss()\n",
        "optimizer = SGD(model.parameters(), lr=0.1, momentum=0.9)\n",
        "scheduler = lr_scheduler.ReduceLROnPlateau(optimizer, 'min', factor=0.3,\n",
        "                                                           patience=3, verbose=True, min_lr=0.001)\n",
        "early_stopping = EarlyStopping(tolerance=7, mode='min')\n",
        "\n",
        "best_model_wts = deepcopy(model.state_dict())\n",
        "best_acc = 0.0"
      ]
    },
    {
      "cell_type": "markdown",
      "metadata": {
        "id": "SHVp-3xN9Gp7"
      },
      "source": [
        "# Use TensorBoard to check the progress of learning"
      ]
    },
    {
      "cell_type": "code",
      "execution_count": null,
      "metadata": {
        "id": "3i1dctSU9Gp7",
        "outputId": "d4752211-94e1-42b9-a777-230a670416e7"
      },
      "outputs": [
        {
          "data": {
            "text/plain": [
              "ERROR: Failed to launch TensorBoard (exited with -4)."
            ]
          },
          "metadata": {},
          "output_type": "display_data"
        }
      ],
      "source": [
        "%load_ext tensorboard\n",
        "%tensorboard --logdir runs"
      ]
    },
    {
      "cell_type": "code",
      "execution_count": null,
      "metadata": {
        "id": "IJwFwepob06G",
        "pycharm": {
          "name": "#%%\n"
        }
      },
      "outputs": [],
      "source": [
        "import torch.optim as optim\n",
        "from torch.utils.tensorboard import SummaryWriter\n",
        "import copy\n",
        "\n",
        "\n",
        "\n",
        "def training(writing=False):\n",
        "    if writing:\n",
        "        writer = SummaryWriter(log_dir='runs/model')\n",
        "    for epoch in range(1, epochs + 1):\n",
        "        train_loss, train_acc = train(model, device, train_data_loader, criterion, optimizer, epoch)\n",
        "        # Update learning rate if needed\n",
        "        scheduler.step(train_loss)\n",
        "\n",
        "        test_loss, test_acc = test(model, device, test_data_loader, criterion)\n",
        "        # Terminate training if loss stopped to decrease\n",
        "        if early_stopping(test_loss):\n",
        "            print('\\nEarly stopping\\n')\n",
        "            break\n",
        "        # Deep copy the weight of model if its accuracy is the best for now\n",
        "        if test_acc > best_acc:\n",
        "            best_acc = test_acc\n",
        "            best_model_wts = copy.deepcopy(model.state_dict())\n",
        "        if writing:\n",
        "            writer.add_scalars('Loss',\n",
        "                            {\n",
        "                                'train': train_loss,\n",
        "                                'test': test_loss\n",
        "                            },\n",
        "                            epoch)\n",
        "\n",
        "            writer.add_scalars('Accuracy',\n",
        "                            {\n",
        "                                'train': train_acc,\n",
        "                                'test': test_acc\n",
        "                            },\n",
        "                            epoch)\n",
        "        else:\n",
        "            print(f\"Training accuracy {train_acc}, test accuracy {test_acc}\")\n",
        "            print(f\"Training loss {train_loss}, test loss {test_loss}\")\n",
        "\n",
        "    torch.save(model.state_dict(), \"model.pt\")\n",
        "    model.load_state_dict(best_model_wts)\n",
        "    torch.save(model.state_dict(), \"best_model.pt\")\n",
        "    if writing:\n",
        "        writer.close()\n",
        "\n",
        "training()"
      ]
    }
  ],
  "metadata": {
    "accelerator": "GPU",
    "colab": {
      "provenance": []
    },
    "gpuClass": "standard",
    "kernelspec": {
      "display_name": "Python 3 (ipykernel)",
      "language": "python",
      "name": "python3"
    },
    "language_info": {
      "codemirror_mode": {
        "name": "ipython",
        "version": 3
      },
      "file_extension": ".py",
      "mimetype": "text/x-python",
      "name": "python",
      "nbconvert_exporter": "python",
      "pygments_lexer": "ipython3",
      "version": "3.11.2"
    },
    "vscode": {
      "interpreter": {
        "hash": "aee8b7b246df8f9039afb4144a1f6fd8d2ca17a180786b69acc140d282b71a49"
      }
    }
  },
  "nbformat": 4,
  "nbformat_minor": 0
}